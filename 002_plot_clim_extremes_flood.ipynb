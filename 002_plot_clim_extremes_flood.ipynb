{
 "cells": [
  {
   "cell_type": "code",
   "execution_count": 1,
   "metadata": {},
   "outputs": [],
   "source": [
    "from awrams.utils.processing.extract import extract\n",
    "from awrams.utils.gis import ShapefileDB,extent_from_record\n",
    "from awrams.utils.extents import get_default_extent\n",
    "import pandas as pd\n",
    "import numpy as np\n",
    "import pickle\n",
    "import os\n",
    "from itertools import product\n",
    "import matplotlib.pyplot as plt"
   ]
  },
  {
   "cell_type": "code",
   "execution_count": 2,
   "metadata": {},
   "outputs": [],
   "source": [
    "### Set the customer folder and shapefile name\n",
    "shp_name = 'NRM_clusters'"
   ]
  },
  {
   "cell_type": "code",
   "execution_count": 3,
   "metadata": {},
   "outputs": [],
   "source": [
    "## Data Request dir folder path\n",
    "DataRequest_dir = '/g/data/er4/rs2140/data/'\n",
    "dir_out = '/g/data/er4/zk6340/code/Script_Hydro-projections'\n",
    "\n",
    "# Which cluster\n",
    "which_cluster = 'Wet Tropics'\n",
    "\n",
    "# Participating GCMs, Bias correction approaches, Emission scenarios\n",
    "gcms = ['CNRM-CERFACS-CNRM-CM5','CSIRO-BOM-ACCESS1-0','MIROC-MIROC5','NOAA-GFDL-GFDL-ESM2M']\n",
    "bias_corr = ['CSIRO-CCAM-r3355-r240x120-ISIMIP2b-AWAP','r240x120-ISIMIP2b-AWAP', 'r240x120-MRNBC-AWAP', 'r240x120-QME-AWAP']\n",
    "emission = ['rcp45','rcp85']"
   ]
  },
  {
   "cell_type": "code",
   "execution_count": 4,
   "metadata": {},
   "outputs": [
    {
     "data": {
      "text/html": [
       "<div>\n",
       "<table border=\"1\" class=\"dataframe\">\n",
       "  <thead>\n",
       "    <tr style=\"text-align: right;\">\n",
       "      <th></th>\n",
       "      <th>OBJECTID</th>\n",
       "      <th>Shape_Area</th>\n",
       "      <th>Shape_Leng</th>\n",
       "      <th>code</th>\n",
       "      <th>label</th>\n",
       "    </tr>\n",
       "  </thead>\n",
       "  <tbody>\n",
       "    <tr>\n",
       "      <th>0</th>\n",
       "      <td>1</td>\n",
       "      <td>28.309947</td>\n",
       "      <td>43.872364</td>\n",
       "      <td>CS</td>\n",
       "      <td>Central Slopes</td>\n",
       "    </tr>\n",
       "    <tr>\n",
       "      <th>1</th>\n",
       "      <td>2</td>\n",
       "      <td>34.176299</td>\n",
       "      <td>56.117544</td>\n",
       "      <td>EC</td>\n",
       "      <td>East Coast</td>\n",
       "    </tr>\n",
       "    <tr>\n",
       "      <th>2</th>\n",
       "      <td>4</td>\n",
       "      <td>45.299310</td>\n",
       "      <td>45.869349</td>\n",
       "      <td>MB</td>\n",
       "      <td>Murray Basin</td>\n",
       "    </tr>\n",
       "    <tr>\n",
       "      <th>3</th>\n",
       "      <td>5</td>\n",
       "      <td>124.655757</td>\n",
       "      <td>119.284033</td>\n",
       "      <td>MN</td>\n",
       "      <td>Monsoonal North</td>\n",
       "    </tr>\n",
       "    <tr>\n",
       "      <th>4</th>\n",
       "      <td>6</td>\n",
       "      <td>407.116072</td>\n",
       "      <td>137.457553</td>\n",
       "      <td>R</td>\n",
       "      <td>Rangelands</td>\n",
       "    </tr>\n",
       "    <tr>\n",
       "      <th>5</th>\n",
       "      <td>7</td>\n",
       "      <td>23.431035</td>\n",
       "      <td>59.887218</td>\n",
       "      <td>SS</td>\n",
       "      <td>Southern Slopes</td>\n",
       "    </tr>\n",
       "    <tr>\n",
       "      <th>6</th>\n",
       "      <td>8</td>\n",
       "      <td>50.647491</td>\n",
       "      <td>87.137068</td>\n",
       "      <td>SSWF</td>\n",
       "      <td>Southern and South-Western Flatlands</td>\n",
       "    </tr>\n",
       "    <tr>\n",
       "      <th>7</th>\n",
       "      <td>9</td>\n",
       "      <td>19.503388</td>\n",
       "      <td>45.896712</td>\n",
       "      <td>WT</td>\n",
       "      <td>Wet Tropics</td>\n",
       "    </tr>\n",
       "  </tbody>\n",
       "</table>\n",
       "</div>"
      ],
      "text/plain": [
       "   OBJECTID  Shape_Area  Shape_Leng  code  \\\n",
       "0         1   28.309947   43.872364    CS   \n",
       "1         2   34.176299   56.117544    EC   \n",
       "2         4   45.299310   45.869349    MB   \n",
       "3         5  124.655757  119.284033    MN   \n",
       "4         6  407.116072  137.457553     R   \n",
       "5         7   23.431035   59.887218    SS   \n",
       "6         8   50.647491   87.137068  SSWF   \n",
       "7         9   19.503388   45.896712    WT   \n",
       "\n",
       "                                  label  \n",
       "0                        Central Slopes  \n",
       "1                            East Coast  \n",
       "2                          Murray Basin  \n",
       "3                       Monsoonal North  \n",
       "4                            Rangelands  \n",
       "5                       Southern Slopes  \n",
       "6  Southern and South-Western Flatlands  \n",
       "7                           Wet Tropics  "
      ]
     },
     "execution_count": 4,
     "metadata": {},
     "output_type": "execute_result"
    }
   ],
   "source": [
    "## Read shape file\n",
    "shp = DataRequest_dir + 'shapefiles/NRM_clusters/' + shp_name + '.shp'\n",
    "sdb = ShapefileDB(shp)\n",
    "sdf = sdb.get_records_df()\n",
    "sdf"
   ]
  },
  {
   "cell_type": "code",
   "execution_count": 5,
   "metadata": {},
   "outputs": [],
   "source": [
    "emap = pickle.load(open(DataRequest_dir + 'shapefiles/NRM_clusters/' + shp_name + '.pkl', 'rb'))"
   ]
  },
  {
   "cell_type": "code",
   "execution_count": 6,
   "metadata": {},
   "outputs": [
    {
     "data": {
      "text/plain": [
       "{'Central Slopes': origin: -24.9,146.3, shape: (182, 125), cell_size: 0.05,\n",
       " 'East Coast': origin: -21.25,146.55, shape: (279, 144), cell_size: 0.05,\n",
       " 'Murray Basin': origin: -32.2,138.55, shape: (119, 229), cell_size: 0.05,\n",
       " 'Monsoonal North': origin: -10.85,119.05, shape: (273, 593), cell_size: 0.05,\n",
       " 'Rangelands': origin: -16.95,112.85, shape: (329, 723), cell_size: 0.05,\n",
       " 'Southern Slopes': origin: -34.2,140.95, shape: (193, 203), cell_size: 0.05,\n",
       " 'Southern and South-Western Flatlands': origin: -26.8,113.5, shape: (194, 518), cell_size: 0.05,\n",
       " 'Wet Tropics': origin: -10.0,141.35, shape: (245, 177), cell_size: 0.05}"
      ]
     },
     "execution_count": 6,
     "metadata": {},
     "output_type": "execute_result"
    }
   ],
   "source": [
    "emap"
   ]
  },
  {
   "cell_type": "code",
   "execution_count": 7,
   "metadata": {},
   "outputs": [],
   "source": [
    "cluster = {}\n",
    "for key in emap:\n",
    "    if which_cluster in key:\n",
    "        cluster[key] = emap[key]"
   ]
  },
  {
   "cell_type": "code",
   "execution_count": 8,
   "metadata": {},
   "outputs": [],
   "source": [
    "period_hist = pd.date_range('1 jan 1976', '31 dec 2005', freq='D')\n",
    "#period_projected = pd.date_range('1 jan 2080', '31 dec 2099', freq='D')\n",
    "period_projected = pd.date_range('2080-01-01 12:00:00', '2099-12-31 00:00:00', freq='D')"
   ]
  },
  {
   "cell_type": "code",
   "execution_count": 9,
   "metadata": {},
   "outputs": [],
   "source": [
    "#Function to get to the path \n",
    "def get_path(parameter,which_gcm,which_emission,which_bias_corr):\n",
    "    return(os.path.join('/g/data/wj02/COMPLIANT/HMINPUT/output/AUS-5/BoM/%s/%s/r1i1p1/%s/latest/day/%s'%(which_gcm,which_emission,which_bias_corr,parameter)))"
   ]
  },
  {
   "cell_type": "code",
   "execution_count": 10,
   "metadata": {},
   "outputs": [],
   "source": [
    "#Function to get to the file\n",
    "def get_file(parameter,which_gcm,which_emission,which_bias_corr):\n",
    "    base_filename = '%s_AUS-5_%s_%s_r1i1p1_%s_v1_day_20060101-20991231.nc'%(parameter,which_gcm,which_emission,which_bias_corr)\n",
    "    return(base_filename)"
   ]
  },
  {
   "cell_type": "code",
   "execution_count": 11,
   "metadata": {},
   "outputs": [],
   "source": [
    "#Function to calculate return period\n",
    "def return_period(data, T):\n",
    "    xbar=np.mean(data)\n",
    "    stdev=np.std(data)\n",
    "    ff=np.sqrt(6)/3.1416*(-0.5772-np.log(-np.log(1-1/T))) \n",
    "    qt=xbar+stdev*ff\n",
    "    return(qt)"
   ]
  },
  {
   "cell_type": "code",
   "execution_count": 12,
   "metadata": {},
   "outputs": [],
   "source": [
    "var_name = 'rain_day'\n",
    "input_path_awap = '/g/data/er4/data/CLIMATE/rain_day/'\n",
    "pattern = input_path_awap + '%s*.nc' % var_name\n",
    "ds_awap = extract(input_path_awap, pattern, var_name, cluster, period_hist)\n",
    "awap_mean = ds_awap.resample(rule='A-DEC').sum().mean()[0]\n",
    "awap_max = ds_awap.max()[0]\n",
    "yr_max_awap = ds_awap.resample(rule='A-DEC').max()\n",
    "awap_return_period = return_period(yr_max_awap, 20)[0]"
   ]
  },
  {
   "cell_type": "code",
   "execution_count": 13,
   "metadata": {},
   "outputs": [],
   "source": [
    "values = [(i, j, k) for i, j, k in product(gcms, bias_corr, emission)]"
   ]
  },
  {
   "cell_type": "code",
   "execution_count": 14,
   "metadata": {},
   "outputs": [
    {
     "ename": "Exception",
     "evalue": "No files found in /g/data/er4/zk6340/code/Script_Hydro-projections/ matching /g/data/er4/zk6340/code/Script_Hydro-projections/pr*.nc",
     "output_type": "error",
     "traceback": [
      "\u001b[0;31m---------------------------------------------------------------------------\u001b[0m",
      "\u001b[0;31mException\u001b[0m                                 Traceback (most recent call last)",
      "\u001b[0;32m<ipython-input-14-0bc793df13da>\u001b[0m in \u001b[0;36m<module>\u001b[0;34m\u001b[0m\n\u001b[1;32m      3\u001b[0m \u001b[0minput_file\u001b[0m \u001b[0;34m=\u001b[0m \u001b[0mget_file\u001b[0m\u001b[0;34m(\u001b[0m\u001b[0mvariable\u001b[0m\u001b[0;34m,\u001b[0m\u001b[0mvalues\u001b[0m\u001b[0;34m[\u001b[0m\u001b[0;36m0\u001b[0m\u001b[0;34m]\u001b[0m\u001b[0;34m[\u001b[0m\u001b[0;36m0\u001b[0m\u001b[0;34m]\u001b[0m\u001b[0;34m,\u001b[0m\u001b[0mvalues\u001b[0m\u001b[0;34m[\u001b[0m\u001b[0;36m0\u001b[0m\u001b[0;34m]\u001b[0m\u001b[0;34m[\u001b[0m\u001b[0;36m2\u001b[0m\u001b[0;34m]\u001b[0m\u001b[0;34m,\u001b[0m\u001b[0mvalues\u001b[0m\u001b[0;34m[\u001b[0m\u001b[0;36m0\u001b[0m\u001b[0;34m]\u001b[0m\u001b[0;34m[\u001b[0m\u001b[0;36m1\u001b[0m\u001b[0;34m]\u001b[0m\u001b[0;34m)\u001b[0m\u001b[0;34m\u001b[0m\u001b[0;34m\u001b[0m\u001b[0m\n\u001b[1;32m      4\u001b[0m \u001b[0mpattern_gcm\u001b[0m \u001b[0;34m=\u001b[0m \u001b[0minput_path_gcm\u001b[0m \u001b[0;34m+\u001b[0m \u001b[0;34m'%s*.nc'\u001b[0m \u001b[0;34m%\u001b[0m \u001b[0mvariable\u001b[0m\u001b[0;34m\u001b[0m\u001b[0;34m\u001b[0m\u001b[0m\n\u001b[0;32m----> 5\u001b[0;31m \u001b[0mrr_gcm\u001b[0m \u001b[0;34m=\u001b[0m \u001b[0mextract\u001b[0m\u001b[0;34m(\u001b[0m\u001b[0minput_path_gcm\u001b[0m\u001b[0;34m,\u001b[0m \u001b[0mpattern_gcm\u001b[0m\u001b[0;34m,\u001b[0m \u001b[0mvariable\u001b[0m\u001b[0;34m,\u001b[0m \u001b[0mcluster\u001b[0m\u001b[0;34m,\u001b[0m \u001b[0mperiod_projected\u001b[0m\u001b[0;34m)\u001b[0m\u001b[0;31m#kgM-2s-1\u001b[0m\u001b[0;34m\u001b[0m\u001b[0;34m\u001b[0m\u001b[0m\n\u001b[0m\u001b[1;32m      6\u001b[0m \u001b[0mdd_gcm\u001b[0m \u001b[0;34m=\u001b[0m \u001b[0mrr_gcm\u001b[0m\u001b[0;34m*\u001b[0m\u001b[0;36m86400\u001b[0m\u001b[0;34m\u001b[0m\u001b[0;34m\u001b[0m\u001b[0m\n\u001b[1;32m      7\u001b[0m \u001b[0mgcm_mean\u001b[0m \u001b[0;34m=\u001b[0m \u001b[0mdd_gcm\u001b[0m\u001b[0;34m.\u001b[0m\u001b[0mresample\u001b[0m\u001b[0;34m(\u001b[0m\u001b[0mrule\u001b[0m\u001b[0;34m=\u001b[0m\u001b[0;34m'A-DEC'\u001b[0m\u001b[0;34m)\u001b[0m\u001b[0;34m.\u001b[0m\u001b[0msum\u001b[0m\u001b[0;34m(\u001b[0m\u001b[0;34m)\u001b[0m\u001b[0;34m.\u001b[0m\u001b[0mmean\u001b[0m\u001b[0;34m(\u001b[0m\u001b[0;34m)\u001b[0m\u001b[0;34m[\u001b[0m\u001b[0;36m0\u001b[0m\u001b[0;34m]\u001b[0m\u001b[0;34m\u001b[0m\u001b[0;34m\u001b[0m\u001b[0m\n",
      "\u001b[0;32m/g/data/er4/AWRACMS/awrams_cm_v6.1/utils/awrams/utils/processing/extract.py\u001b[0m in \u001b[0;36mextract\u001b[0;34m(path, pattern, var_name, extent_map, period)\u001b[0m\n\u001b[1;32m      8\u001b[0m     '''\n\u001b[1;32m      9\u001b[0m \u001b[0;34m\u001b[0m\u001b[0m\n\u001b[0;32m---> 10\u001b[0;31m     \u001b[0msfm\u001b[0m \u001b[0;34m=\u001b[0m \u001b[0mdm\u001b[0m\u001b[0;34m.\u001b[0m\u001b[0mSplitFileManager\u001b[0m\u001b[0;34m.\u001b[0m\u001b[0mopen_existing\u001b[0m\u001b[0;34m(\u001b[0m\u001b[0mpath\u001b[0m\u001b[0;34m,\u001b[0m\u001b[0mpattern\u001b[0m\u001b[0;34m,\u001b[0m\u001b[0mvar_name\u001b[0m\u001b[0;34m)\u001b[0m\u001b[0;34m\u001b[0m\u001b[0;34m\u001b[0m\u001b[0m\n\u001b[0m\u001b[1;32m     11\u001b[0m \u001b[0;34m\u001b[0m\u001b[0m\n\u001b[1;32m     12\u001b[0m     \u001b[0;32mreturn\u001b[0m \u001b[0mextract_from_filemanager\u001b[0m\u001b[0;34m(\u001b[0m\u001b[0msfm\u001b[0m\u001b[0;34m,\u001b[0m\u001b[0mextent_map\u001b[0m\u001b[0;34m,\u001b[0m\u001b[0mperiod\u001b[0m\u001b[0;34m)\u001b[0m\u001b[0;34m\u001b[0m\u001b[0;34m\u001b[0m\u001b[0m\n",
      "\u001b[0;32m/g/data/er4/AWRACMS/awrams_cm_v6.1/utils/awrams/utils/io/data_mapping.py\u001b[0m in \u001b[0;36mopen_existing\u001b[0;34m(self, path, pattern, variable, mode, ff, max_open_files)\u001b[0m\n\u001b[1;32m    253\u001b[0m         \u001b[0msfm\u001b[0m \u001b[0;34m=\u001b[0m \u001b[0mSplitFileManager\u001b[0m\u001b[0;34m(\u001b[0m\u001b[0;32mNone\u001b[0m\u001b[0;34m,\u001b[0m\u001b[0;32mNone\u001b[0m\u001b[0;34m)\u001b[0m\u001b[0;34m\u001b[0m\u001b[0;34m\u001b[0m\u001b[0m\n\u001b[1;32m    254\u001b[0m         \u001b[0mself\u001b[0m\u001b[0;34m.\u001b[0m\u001b[0mmode\u001b[0m \u001b[0;34m=\u001b[0m \u001b[0mmode\u001b[0m\u001b[0;34m\u001b[0m\u001b[0;34m\u001b[0m\u001b[0m\n\u001b[0;32m--> 255\u001b[0;31m         \u001b[0msfm\u001b[0m\u001b[0;34m.\u001b[0m\u001b[0mmap_files\u001b[0m\u001b[0;34m(\u001b[0m\u001b[0mpath\u001b[0m\u001b[0;34m,\u001b[0m\u001b[0mpattern\u001b[0m\u001b[0;34m,\u001b[0m\u001b[0mvariable\u001b[0m\u001b[0;34m,\u001b[0m\u001b[0mff\u001b[0m\u001b[0;34m=\u001b[0m\u001b[0mff\u001b[0m\u001b[0;34m)\u001b[0m\u001b[0;34m\u001b[0m\u001b[0;34m\u001b[0m\u001b[0m\n\u001b[0m\u001b[1;32m    256\u001b[0m         \u001b[0;32mreturn\u001b[0m \u001b[0msfm\u001b[0m\u001b[0;34m\u001b[0m\u001b[0;34m\u001b[0m\u001b[0m\n\u001b[1;32m    257\u001b[0m \u001b[0;34m\u001b[0m\u001b[0m\n",
      "\u001b[0;32m/g/data/er4/AWRACMS/awrams_cm_v6.1/utils/awrams/utils/io/data_mapping.py\u001b[0m in \u001b[0;36mmap_files\u001b[0;34m(self, path, pattern, variable, ff, max_open_files)\u001b[0m\n\u001b[1;32m    277\u001b[0m \u001b[0;34m\u001b[0m\u001b[0m\n\u001b[1;32m    278\u001b[0m         \u001b[0;32mif\u001b[0m \u001b[0mlen\u001b[0m\u001b[0;34m(\u001b[0m\u001b[0mfiles\u001b[0m\u001b[0;34m)\u001b[0m \u001b[0;34m==\u001b[0m \u001b[0;36m0\u001b[0m\u001b[0;34m:\u001b[0m\u001b[0;34m\u001b[0m\u001b[0;34m\u001b[0m\u001b[0m\n\u001b[0;32m--> 279\u001b[0;31m             \u001b[0;32mraise\u001b[0m \u001b[0mException\u001b[0m\u001b[0;34m(\u001b[0m\u001b[0;34m\"No files found in %s matching %s\"\u001b[0m \u001b[0;34m%\u001b[0m \u001b[0;34m(\u001b[0m\u001b[0mpath\u001b[0m\u001b[0;34m,\u001b[0m\u001b[0mpattern\u001b[0m\u001b[0;34m)\u001b[0m\u001b[0;34m)\u001b[0m\u001b[0;34m\u001b[0m\u001b[0;34m\u001b[0m\u001b[0m\n\u001b[0m\u001b[1;32m    280\u001b[0m \u001b[0;34m\u001b[0m\u001b[0m\n\u001b[1;32m    281\u001b[0m         \u001b[0;31m#import netCDF4 as ncd\u001b[0m\u001b[0;34m\u001b[0m\u001b[0;34m\u001b[0m\u001b[0;34m\u001b[0m\u001b[0m\n",
      "\u001b[0;31mException\u001b[0m: No files found in /g/data/er4/zk6340/code/Script_Hydro-projections/ matching /g/data/er4/zk6340/code/Script_Hydro-projections/pr*.nc"
     ]
    }
   ],
   "source": [
    "variable = 'pr'\n",
    "input_path_gcm = '/g/data/er4/zk6340/code/Script_Hydro-projections/'\n",
    "input_file = get_file(variable,values[0][0],values[0][2],values[0][1])\n",
    "pattern_gcm = input_path_gcm + '%s*.nc' % variable\n",
    "rr_gcm = extract(input_path_gcm, pattern_gcm, variable, cluster, period_projected)#kgM-2s-1\n",
    "dd_gcm = rr_gcm*86400\n",
    "gcm_mean = dd_gcm.resample(rule='A-DEC').sum().mean()[0]\n",
    "gcm_max = dd_gcm.max()[0]\n",
    "annual_mean_change = ((awap_mean-gcm_mean)/awap_mean)*100\n",
    "annual_max_day_change = ((awap_max-gcm_max)/awap_max)*100\n",
    "dd = {'GCM':values[0][0],'Bias_correction':values[0][2],'Emission':values[0][1],'Annual_mean_prcp_change':annual_mean_change,'Max_1_day_prcp_change':annual_max_day_change}"
   ]
  },
  {
   "cell_type": "code",
   "execution_count": null,
   "metadata": {},
   "outputs": [],
   "source": [
    "dd_gcm"
   ]
  },
  {
   "cell_type": "code",
   "execution_count": 15,
   "metadata": {
    "scrolled": true
   },
   "outputs": [
    {
     "ename": "Exception",
     "evalue": "No files found in /g/data/wj02/COMPLIANT/HMINPUT/output/AUS-5/BoM/CNRM-CERFACS-CNRM-CM5/CSIRO-CCAM-r3355-r240x120-ISIMIP2b-AWAP/r1i1p1/rcp45/latest/day/pr matching /g/data/wj02/COMPLIANT/HMINPUT/output/AUS-5/BoM/CNRM-CERFACS-CNRM-CM5/CSIRO-CCAM-r3355-r240x120-ISIMIP2b-AWAP/r1i1p1/rcp45/latest/day/pr/g/data/wj02/COMPLIANT/HMINPUT/output/AUS-5/BoM/CNRM-CERFACS-CNRM-CM5/CSIRO-CCAM-r3355-r240x120-ISIMIP2b-AWAP/r1i1p1/rcp45/latest/day/pr",
     "output_type": "error",
     "traceback": [
      "\u001b[0;31m---------------------------------------------------------------------------\u001b[0m",
      "\u001b[0;31mException\u001b[0m                                 Traceback (most recent call last)",
      "\u001b[0;32m<ipython-input-15-8100b7bfb03a>\u001b[0m in \u001b[0;36m<module>\u001b[0;34m\u001b[0m\n\u001b[1;32m      5\u001b[0m     \u001b[0minput_file\u001b[0m \u001b[0;34m=\u001b[0m \u001b[0mget_path\u001b[0m\u001b[0;34m(\u001b[0m\u001b[0mvariable\u001b[0m\u001b[0;34m,\u001b[0m\u001b[0mval\u001b[0m\u001b[0;34m[\u001b[0m\u001b[0;36m1\u001b[0m\u001b[0;34m]\u001b[0m\u001b[0;34m[\u001b[0m\u001b[0;36m0\u001b[0m\u001b[0;34m]\u001b[0m\u001b[0;34m,\u001b[0m\u001b[0mval\u001b[0m\u001b[0;34m[\u001b[0m\u001b[0;36m1\u001b[0m\u001b[0;34m]\u001b[0m\u001b[0;34m[\u001b[0m\u001b[0;36m1\u001b[0m\u001b[0;34m]\u001b[0m\u001b[0;34m,\u001b[0m\u001b[0mval\u001b[0m\u001b[0;34m[\u001b[0m\u001b[0;36m1\u001b[0m\u001b[0;34m]\u001b[0m\u001b[0;34m[\u001b[0m\u001b[0;36m2\u001b[0m\u001b[0;34m]\u001b[0m\u001b[0;34m)\u001b[0m\u001b[0;34m\u001b[0m\u001b[0;34m\u001b[0m\u001b[0m\n\u001b[1;32m      6\u001b[0m     \u001b[0mpattern_gcm\u001b[0m \u001b[0;34m=\u001b[0m \u001b[0minput_path_gcm\u001b[0m \u001b[0;34m+\u001b[0m \u001b[0minput_file\u001b[0m\u001b[0;34m\u001b[0m\u001b[0;34m\u001b[0m\u001b[0m\n\u001b[0;32m----> 7\u001b[0;31m     \u001b[0mdd_gcm\u001b[0m \u001b[0;34m=\u001b[0m \u001b[0mextract\u001b[0m\u001b[0;34m(\u001b[0m\u001b[0minput_path_gcm\u001b[0m\u001b[0;34m,\u001b[0m \u001b[0mpattern_gcm\u001b[0m\u001b[0;34m,\u001b[0m \u001b[0mvariable\u001b[0m\u001b[0;34m,\u001b[0m \u001b[0mcluster\u001b[0m\u001b[0;34m,\u001b[0m \u001b[0mperiod_projected\u001b[0m\u001b[0;34m)\u001b[0m\u001b[0;34m\u001b[0m\u001b[0;34m\u001b[0m\u001b[0m\n\u001b[0m\u001b[1;32m      8\u001b[0m     \u001b[0mgcm_mean\u001b[0m \u001b[0;34m=\u001b[0m \u001b[0mds_gcm\u001b[0m\u001b[0;34m.\u001b[0m\u001b[0mresample\u001b[0m\u001b[0;34m(\u001b[0m\u001b[0mrule\u001b[0m\u001b[0;34m=\u001b[0m\u001b[0;34m'A-DEC'\u001b[0m\u001b[0;34m)\u001b[0m\u001b[0;34m.\u001b[0m\u001b[0msum\u001b[0m\u001b[0;34m(\u001b[0m\u001b[0;34m)\u001b[0m\u001b[0;34m.\u001b[0m\u001b[0mmean\u001b[0m\u001b[0;34m(\u001b[0m\u001b[0;34m)\u001b[0m\u001b[0;34m[\u001b[0m\u001b[0;36m0\u001b[0m\u001b[0;34m]\u001b[0m\u001b[0;34m\u001b[0m\u001b[0;34m\u001b[0m\u001b[0m\n\u001b[1;32m      9\u001b[0m     \u001b[0mgcm_max\u001b[0m \u001b[0;34m=\u001b[0m \u001b[0mds_gcm\u001b[0m\u001b[0;34m.\u001b[0m\u001b[0mmax\u001b[0m\u001b[0;34m(\u001b[0m\u001b[0;34m)\u001b[0m\u001b[0;34m[\u001b[0m\u001b[0;36m0\u001b[0m\u001b[0;34m]\u001b[0m\u001b[0;34m\u001b[0m\u001b[0;34m\u001b[0m\u001b[0m\n",
      "\u001b[0;32m/g/data/er4/AWRACMS/awrams_cm_v6.1/utils/awrams/utils/processing/extract.py\u001b[0m in \u001b[0;36mextract\u001b[0;34m(path, pattern, var_name, extent_map, period)\u001b[0m\n\u001b[1;32m      8\u001b[0m     '''\n\u001b[1;32m      9\u001b[0m \u001b[0;34m\u001b[0m\u001b[0m\n\u001b[0;32m---> 10\u001b[0;31m     \u001b[0msfm\u001b[0m \u001b[0;34m=\u001b[0m \u001b[0mdm\u001b[0m\u001b[0;34m.\u001b[0m\u001b[0mSplitFileManager\u001b[0m\u001b[0;34m.\u001b[0m\u001b[0mopen_existing\u001b[0m\u001b[0;34m(\u001b[0m\u001b[0mpath\u001b[0m\u001b[0;34m,\u001b[0m\u001b[0mpattern\u001b[0m\u001b[0;34m,\u001b[0m\u001b[0mvar_name\u001b[0m\u001b[0;34m)\u001b[0m\u001b[0;34m\u001b[0m\u001b[0;34m\u001b[0m\u001b[0m\n\u001b[0m\u001b[1;32m     11\u001b[0m \u001b[0;34m\u001b[0m\u001b[0m\n\u001b[1;32m     12\u001b[0m     \u001b[0;32mreturn\u001b[0m \u001b[0mextract_from_filemanager\u001b[0m\u001b[0;34m(\u001b[0m\u001b[0msfm\u001b[0m\u001b[0;34m,\u001b[0m\u001b[0mextent_map\u001b[0m\u001b[0;34m,\u001b[0m\u001b[0mperiod\u001b[0m\u001b[0;34m)\u001b[0m\u001b[0;34m\u001b[0m\u001b[0;34m\u001b[0m\u001b[0m\n",
      "\u001b[0;32m/g/data/er4/AWRACMS/awrams_cm_v6.1/utils/awrams/utils/io/data_mapping.py\u001b[0m in \u001b[0;36mopen_existing\u001b[0;34m(self, path, pattern, variable, mode, ff, max_open_files)\u001b[0m\n\u001b[1;32m    253\u001b[0m         \u001b[0msfm\u001b[0m \u001b[0;34m=\u001b[0m \u001b[0mSplitFileManager\u001b[0m\u001b[0;34m(\u001b[0m\u001b[0;32mNone\u001b[0m\u001b[0;34m,\u001b[0m\u001b[0;32mNone\u001b[0m\u001b[0;34m)\u001b[0m\u001b[0;34m\u001b[0m\u001b[0;34m\u001b[0m\u001b[0m\n\u001b[1;32m    254\u001b[0m         \u001b[0mself\u001b[0m\u001b[0;34m.\u001b[0m\u001b[0mmode\u001b[0m \u001b[0;34m=\u001b[0m \u001b[0mmode\u001b[0m\u001b[0;34m\u001b[0m\u001b[0;34m\u001b[0m\u001b[0m\n\u001b[0;32m--> 255\u001b[0;31m         \u001b[0msfm\u001b[0m\u001b[0;34m.\u001b[0m\u001b[0mmap_files\u001b[0m\u001b[0;34m(\u001b[0m\u001b[0mpath\u001b[0m\u001b[0;34m,\u001b[0m\u001b[0mpattern\u001b[0m\u001b[0;34m,\u001b[0m\u001b[0mvariable\u001b[0m\u001b[0;34m,\u001b[0m\u001b[0mff\u001b[0m\u001b[0;34m=\u001b[0m\u001b[0mff\u001b[0m\u001b[0;34m)\u001b[0m\u001b[0;34m\u001b[0m\u001b[0;34m\u001b[0m\u001b[0m\n\u001b[0m\u001b[1;32m    256\u001b[0m         \u001b[0;32mreturn\u001b[0m \u001b[0msfm\u001b[0m\u001b[0;34m\u001b[0m\u001b[0;34m\u001b[0m\u001b[0m\n\u001b[1;32m    257\u001b[0m \u001b[0;34m\u001b[0m\u001b[0m\n",
      "\u001b[0;32m/g/data/er4/AWRACMS/awrams_cm_v6.1/utils/awrams/utils/io/data_mapping.py\u001b[0m in \u001b[0;36mmap_files\u001b[0;34m(self, path, pattern, variable, ff, max_open_files)\u001b[0m\n\u001b[1;32m    277\u001b[0m \u001b[0;34m\u001b[0m\u001b[0m\n\u001b[1;32m    278\u001b[0m         \u001b[0;32mif\u001b[0m \u001b[0mlen\u001b[0m\u001b[0;34m(\u001b[0m\u001b[0mfiles\u001b[0m\u001b[0;34m)\u001b[0m \u001b[0;34m==\u001b[0m \u001b[0;36m0\u001b[0m\u001b[0;34m:\u001b[0m\u001b[0;34m\u001b[0m\u001b[0;34m\u001b[0m\u001b[0m\n\u001b[0;32m--> 279\u001b[0;31m             \u001b[0;32mraise\u001b[0m \u001b[0mException\u001b[0m\u001b[0;34m(\u001b[0m\u001b[0;34m\"No files found in %s matching %s\"\u001b[0m \u001b[0;34m%\u001b[0m \u001b[0;34m(\u001b[0m\u001b[0mpath\u001b[0m\u001b[0;34m,\u001b[0m\u001b[0mpattern\u001b[0m\u001b[0;34m)\u001b[0m\u001b[0;34m)\u001b[0m\u001b[0;34m\u001b[0m\u001b[0;34m\u001b[0m\u001b[0m\n\u001b[0m\u001b[1;32m    280\u001b[0m \u001b[0;34m\u001b[0m\u001b[0m\n\u001b[1;32m    281\u001b[0m         \u001b[0;31m#import netCDF4 as ncd\u001b[0m\u001b[0;34m\u001b[0m\u001b[0;34m\u001b[0m\u001b[0;34m\u001b[0m\u001b[0m\n",
      "\u001b[0;31mException\u001b[0m: No files found in /g/data/wj02/COMPLIANT/HMINPUT/output/AUS-5/BoM/CNRM-CERFACS-CNRM-CM5/CSIRO-CCAM-r3355-r240x120-ISIMIP2b-AWAP/r1i1p1/rcp45/latest/day/pr matching /g/data/wj02/COMPLIANT/HMINPUT/output/AUS-5/BoM/CNRM-CERFACS-CNRM-CM5/CSIRO-CCAM-r3355-r240x120-ISIMIP2b-AWAP/r1i1p1/rcp45/latest/day/pr/g/data/wj02/COMPLIANT/HMINPUT/output/AUS-5/BoM/CNRM-CERFACS-CNRM-CM5/CSIRO-CCAM-r3355-r240x120-ISIMIP2b-AWAP/r1i1p1/rcp45/latest/day/pr"
     ]
    }
   ],
   "source": [
    "variable = 'pr'\n",
    "all_details = []\n",
    "for val in enumerate(values): \n",
    "    input_path_gcm = get_path(variable,val[1][0],val[1][1],val[1][2])\n",
    "    input_file = get_path(variable,val[1][0],val[1][1],val[1][2])\n",
    "    pattern_gcm = input_path_gcm + input_file\n",
    "    dd_gcm = extract(input_path_gcm, pattern_gcm, variable, cluster, period_projected)\n",
    "    gcm_mean = ds_gcm.resample(rule='A-DEC').sum().mean()[0]\n",
    "    gcm_max = ds_gcm.max()[0]\n",
    "    annual_mean_change = ((awap_mean-gcm_mean)/awap_mean)*100\n",
    "    annual_max_day_change = ((awap_max-gcm_max)/awap_max)*100\n",
    "    dd = {'GCM':val[0],'Bias_correction':val[1],'Emission':val[2],'Annual_mean_prcp_change':annual_mean_change,'Max_1_day_prcp_change':annual_max_day_change}\n",
    "    all_details.append(dd)\n",
    "all_data = pd.DataFrame(all_details)"
   ]
  },
  {
   "cell_type": "code",
   "execution_count": null,
   "metadata": {},
   "outputs": [],
   "source": [
    "/g/data/wj02/COMPLIANT/HMINPUT/output/AUS-5/BoM/CNRM-CERFACS-CNRM-CM5/rcp45/r1i1p1/CSIRO-CCAM-r3355-r240x120-ISIMIP2b-AWAP/latest/day/pr"
   ]
  },
  {
   "cell_type": "code",
   "execution_count": null,
   "metadata": {},
   "outputs": [],
   "source": [
    "all_data.to_csv(dir_out + '.csv')"
   ]
  },
  {
   "cell_type": "code",
   "execution_count": null,
   "metadata": {},
   "outputs": [],
   "source": [
    "# fig = plt.figure()\n",
    "# ax = fig.add_axes([0,0,1,1])\n",
    "# title = \"NRM Region: %s\"%(which_cluster)\n",
    "# ax.set_title(title) \n",
    "# months = ['Jan', 'Feb', 'Mar', 'Apr', 'May', 'Jun', 'Jul', 'Aug', 'Sep', 'Oct', 'Nov', 'Dec']\n",
    "# ax.set_ylabel('Total Rainfall (mm)')\n",
    "# xx = ax.bar(months, df_m['Wet Tropics'], color = 'skyblue')\n",
    "# ax.text(x = months, y = df_m['Wet Tropics'],label = df_m['Wet Tropics'], va='center', ha='right',cex = 0.8, col = 'k')\n",
    "# output_file = 'Rainfall_climatology_%s.jpeg'%(which_cluster)\n",
    "# plt.savefig(os.path.join('/g/data/er4/zk6340/Hydro_projection',output_file))\n",
    "# plt.show()"
   ]
  },
  {
   "cell_type": "code",
   "execution_count": null,
   "metadata": {},
   "outputs": [],
   "source": [
    "dir_in = '/g/data/er4/zk6340/code/Script_Hydro-projections'"
   ]
  },
  {
   "cell_type": "code",
   "execution_count": null,
   "metadata": {},
   "outputs": [],
   "source": [
    "ds = pd.read_csv(os.path.join(dir_in, 'modified.csv'))"
   ]
  },
  {
   "cell_type": "code",
   "execution_count": null,
   "metadata": {},
   "outputs": [],
   "source": [
    "ds"
   ]
  },
  {
   "cell_type": "code",
   "execution_count": null,
   "metadata": {},
   "outputs": [],
   "source": [
    "import seaborn as sns"
   ]
  },
  {
   "cell_type": "code",
   "execution_count": null,
   "metadata": {
    "scrolled": true
   },
   "outputs": [],
   "source": [
    "fig, axs = plt.subplots(nrows=1, ncols=1)\n",
    "fig.set_size_inches((18.5, 10.5))\n",
    "sns.boxplot(x=\"category\", y=\"values\", hue=\"emission\", data=ds, palette=\"Set3\")\n",
    "plt.ylabel(\"% Change in 2080-2099 relative to 1976-2005\", size=14)\n",
    "plt.xlabel(\"\",size=14)\n",
    "plt.title(\"NRM Region: Wet Tropics\", size=16)\n",
    "output_file = 'box_plot.jpeg' \n",
    "plt.savefig(os.path.join(dir_out,output_file))"
   ]
  },
  {
   "cell_type": "code",
   "execution_count": null,
   "metadata": {},
   "outputs": [],
   "source": [
    "tips = sns.load_dataset(\"tips\")"
   ]
  },
  {
   "cell_type": "code",
   "execution_count": null,
   "metadata": {},
   "outputs": [],
   "source": [
    "tips"
   ]
  },
  {
   "cell_type": "code",
   "execution_count": null,
   "metadata": {},
   "outputs": [],
   "source": [
    "ds.boxplot(column=['Annual_mean_prcp_change', 'Max_1_day_prcp_change', 'Return_period_change'])"
   ]
  },
  {
   "cell_type": "code",
   "execution_count": null,
   "metadata": {},
   "outputs": [],
   "source": []
  }
 ],
 "metadata": {
  "kernelspec": {
   "display_name": "Python 3",
   "language": "python",
   "name": "python3"
  },
  "language_info": {
   "codemirror_mode": {
    "name": "ipython",
    "version": 3
   },
   "file_extension": ".py",
   "mimetype": "text/x-python",
   "name": "python",
   "nbconvert_exporter": "python",
   "pygments_lexer": "ipython3",
   "version": "3.6.9"
  }
 },
 "nbformat": 4,
 "nbformat_minor": 2
}
