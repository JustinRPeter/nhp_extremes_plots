{
 "cells": [
  {
   "cell_type": "code",
   "execution_count": 1,
   "metadata": {},
   "outputs": [],
   "source": [
    "import os, sys\n",
    "import pandas as pd\n",
    "import numpy as np\n",
    "import xarray as xr\n",
    "from itertools import product\n",
    "from datetime import datetime, timedelta\n",
    "import argparse\n",
    "import logging\n",
    "from scipy.special import gamma, factorial #gamma function\n",
    "sys.path.append('/g/data/er4/zk6340/code/lmoments3')\n",
    "#import lmoments3 as lm #calculate l-moments\n",
    "%matplotlib inline"
   ]
  },
  {
   "cell_type": "code",
   "execution_count": null,
   "metadata": {},
   "outputs": [],
   "source": [
    "## dir folder path\n",
    "dir_in = '/g/data/er4/zk6340/Hydro_projection/data_flood_scenario_pr'\n",
    "dir_out = '/g/data/er4/zk6340/code/Script_Hydro-projections'\n",
    "\n",
    "# parameter\n",
    "parameter = 'pr'\n",
    "\n",
    "# Which cluster\n",
    "clusters = {'CS':1,'EC':2,'MB':4,'MN':5,'R':6,'SS':7,'SSWF':8,'WT':9}\n",
    "which_cluster = clusters['WT']\n",
    "\n",
    "# return period\n",
    "yT = 20\n",
    "\n",
    "# projection period\n",
    "yr_st = '20800101'\n",
    "yr_end = '20991231'\n",
    "\n",
    "# Participating GCMs, Bias correction approaches, Emission scenarios\n",
    "gcms = ['CNRM-CERFACS-CNRM-CM5','CSIRO-BOM-ACCESS1-0','MIROC-MIROC5','NOAA-GFDL-GFDL-ESM2M']\n",
    "bias_corr = ['CSIRO-CCAM-r3355-r240x120-ISIMIP2b-AWAP','r240x120-ISIMIP2b-AWAP', 'r240x120-MRNBC-AWAP', 'r240x120-QME-AWAP']\n",
    "emission = ['rcp45','rcp85']"
   ]
  },
  {
   "cell_type": "code",
   "execution_count": null,
   "metadata": {},
   "outputs": [],
   "source": [
    "#Function to get to the file\n",
    "def get_file(parameter,which_gcm,which_emission,which_bias_corr, which_metric, yr_end, yr_st):\n",
    "    base_filename = '%s_AUS-5_%s_%s_r1i1p1_%s_%s_%s-%s.nc'%(parameter,which_gcm,which_emission,which_bias_corr,which_metric,yr_end,yr_st)\n",
    "    return(base_filename)"
   ]
  },
  {
   "cell_type": "code",
   "execution_count": null,
   "metadata": {},
   "outputs": [],
   "source": [
    "#Function to calculate return period: EV1/Gumble distribution\n",
    "def return_period(data, T):\n",
    "    xbar=np.mean(data)\n",
    "    stdev=np.std(data)\n",
    "    ff=np.sqrt(6)/3.1416*(-0.5772-np.log(-np.log(1-1/T))) \n",
    "    qt=xbar+stdev*ff\n",
    "    return(qt)"
   ]
  },
  {
   "cell_type": "code",
   "execution_count": null,
   "metadata": {},
   "outputs": [],
   "source": [
    "#Function to calculate return period: GEV distribution\n",
    "def gev_return_period(data, T):\n",
    "    lamda1= lm.lmom_ratios(data, nmom=4)[0]\n",
    "    lamda2= lm.lmom_ratios(data, nmom=4)[1]\n",
    "    lamda3= lm.lmom_ratios(data, nmom=4)[2]\n",
    "    lamda4= lm.lmom_ratios(data, nmom=4)[3]\n",
    "    c=(2*lamda2/(lamda3+3*lamda2))-(np.log(2)/np.log(3))\n",
    "    k=7.859*c+2.9554*c**2\n",
    "    alpha=k*lamda2/(gamma(1+k)*(1-2**(-k)))\n",
    "    zeta=lamda1-alpha/k*(1-(gamma(1+k)))\n",
    "    qt=zeta+(alpha/k)*(1-(-np.log(1-1/T))**k)\n",
    "    return(qt)"
   ]
  },
  {
   "cell_type": "code",
   "execution_count": null,
   "metadata": {},
   "outputs": [],
   "source": [
    "#Function to get annual maximum timeseries\n",
    "def ts_data(dataset, variable, x, cluster):\n",
    "    tm = dataset.time.dt.strftime('%Y-%m-%d')[x].item(0)\n",
    "    ds = dataset[variable].sel(time = tm).where(mask == cluster).NRM_cluster.mean().item(0)   \n",
    "    return(ds)"
   ]
  },
  {
   "cell_type": "code",
   "execution_count": null,
   "metadata": {},
   "outputs": [],
   "source": [
    "# Read cluster mask\n",
    "mask = xr.open_dataset(os.path.join(dir_in,'NRM_clusters.nc'))"
   ]
  },
  {
   "cell_type": "code",
   "execution_count": null,
   "metadata": {},
   "outputs": [],
   "source": [
    "values = [(i, k, x) for i, k, x in product(gcms,emission, bias_corr)]"
   ]
  },
  {
   "cell_type": "code",
   "execution_count": 2,
   "metadata": {},
   "outputs": [],
   "source": [
    "x = [ 0.29848486,  0.09815075,  0.10894123,  0.17728981,  0.07993447,\n",
    "        0.05687778,  0.03262357,  0.08426319,  0.11417754,  2.83034754,\n",
    "        0.31669611,  0.97379208,  0.3431657 ,  0.43425098,  0.3285206 ,\n",
    "        0.15549701,  0.3161217 ,  0.22977819,  0.2376546 ,  2.58493233,\n",
    "        0.86850059,  0.32189187, 12.81156254,  0.61593449,  0.54709554,\n",
    "        0.27335545,  0.28320321,  0.30237091,  0.3749817 ,  0.27856681]"
   ]
  },
  {
   "cell_type": "code",
   "execution_count": 3,
   "metadata": {
    "scrolled": false
   },
   "outputs": [],
   "source": [
    "# Calculates the L/LH moments: \n",
    "# Note: L-moments when h = 0 \n",
    "def lh(x, h):\n",
    "    lh1 = 0\n",
    "    lh2 = 0\n",
    "    lh3 = 0\n",
    "    lh4 = 0\n",
    "    ts = np.sort(x)\n",
    "    n = len(ts)\n",
    "    for i in range (0, len(ts)): \n",
    "        cl0 = 1\n",
    "        if h>0:\n",
    "            for j in range (0, h): \n",
    "                cl0 = cl0*(i-j)/(j+1)\n",
    "        cl1 = cl0*(i+1-h-1)/(h+1)\n",
    "        cl2 = cl1*(i+1-h-2)/(h+2)\n",
    "        cl3 = cl2*(i+1-h-3)/(h+3)\n",
    "        cr1 = n-(i+1)\n",
    "        cr2 = cr1*(n-(i+1)-1)/2\n",
    "        cr3 = cr2*(n-(i+1)-2)/3\n",
    "        lh1 = lh1+cl0* ts[i]\n",
    "        lh2 = lh2+(cl1-cl0*cr1)* ts[i]\n",
    "        lh3 = lh3+(cl2-2*cl1*cr1+cl0*cr2)* ts[i]\n",
    "        lh4 = lh4+(cl3-3*cl2*cr1+3*cl1*cr2-cl0*cr3)* ts[i] \n",
    "    c0 = 1\n",
    "    if h>0:\n",
    "        for j in range (0, h): \n",
    "            c0 = c0*(n+1-(j+1))/(j+1)\n",
    "    c1 = c0*(n+1-h-1)/(h+1)\n",
    "    c2 = c1*(n+1-h-2)/(h+2)\n",
    "    c3 = c2*(n+1-h-3)/(h+3)\n",
    "    c4 = c3*(n+1-h-4)/(h+4)\n",
    "    lh1 = lh1/c1\n",
    "    lh2 = lh2/c2/2\n",
    "    lh3 = lh3/c3/3\n",
    "    lh4 = lh4/c4/4\n",
    "    return(lh1,lh2,lh3,lh4)"
   ]
  },
  {
   "cell_type": "code",
   "execution_count": 16,
   "metadata": {},
   "outputs": [
    {
     "data": {
      "text/plain": [
       "(11.475757663604451, 4.53051933928202, 2.9479301945900382, 2.587149373916667)"
      ]
     },
     "execution_count": 16,
     "metadata": {},
     "output_type": "execute_result"
    }
   ],
   "source": [
    "lh(x, 25)"
   ]
  },
  {
   "cell_type": "code",
   "execution_count": null,
   "metadata": {},
   "outputs": [],
   "source": [
    "data_awap = []\n",
    "for i in range (0, len(x)): \n",
    "    cl0 = 1\n",
    "    if(h>0):\n",
    "        for j in range (0, h): \n",
    "            cl0 = cl0*(i-j)/(j+1)\n",
    "    else:\n",
    "        cl1 = cl0*(i+1-h-1)/(h+1)\n",
    "        cl2 = cl1*(i+1-h-2)/(h+2)\n",
    "        cl3 = cl2*(i+1-h-3)/(h+3)\n",
    "        cr1 = n-(i+1)\n",
    "        cr2 = cr1*(n-(i+1)-1)/2\n",
    "        cr3 = cr2*(n-(i+1)-2)/3\n",
    "        lh1 = lh1+cl0* x[i]\n",
    "        lh2 = lh2+(cl1-cl0*cr1)* x[i]\n",
    "        lh3 = lh3+(cl2-2*cl1*cr1+cl0*cr2)* x[i]\n",
    "        lh4 = lh4+(cl3-3*cl2*cr1+3*cl1*cr2-cl0*cr3)* x[i]"
   ]
  },
  {
   "cell_type": "code",
   "execution_count": null,
   "metadata": {},
   "outputs": [],
   "source": [
    "subroutine lh(x, n, h, lh1, lh2, lh3, lh4)\n",
    "!  Calculates the LH moments\n",
    "   implicit none\n",
    "   integer :: n, i, j, h\n",
    "   real :: x(200), cl0, cl1, cl2, cl3, cr1, cr2, cr3,c0, c1, c2, c3, c4 \n",
    "   real(8) :: lh1, lh2, lh3, lh4       \n",
    "   lh1 = 0.; lh2 = 0.; lh3 = 0.; lh4 = 0.\n",
    "   \n",
    "    \n",
    "    do i =1, n\n",
    "      cl0 = 1.\n",
    "         if (h > 0) then\n",
    "         do j = 1, h\n",
    "            cl0 = cl0*(i-j)/j\n",
    "         end do\n",
    "      end if\n",
    "      cl1 = cl0*(i-h-1)/(h+1)\n",
    "      cl2 = cl1*(i-h-2)/(h+2)\n",
    "      cl3 = cl2*(i-h-3)/(h+3)\n",
    "      cr1 = n-i\n",
    "      cr2 = cr1*(n-i-1)/2\n",
    "      cr3 = cr2*(n-i-2)/3\n",
    "      lh1 = lh1+cl0* x(i)\n",
    "      lh2 = lh2+(cl1-cl0*cr1)* x(i)\n",
    "      lh3 = lh3+(cl2-2*cl1*cr1+cl0*cr2)* x(i)\n",
    "      lh4 = lh4+(cl3-3*cl2*cr1+3*cl1*cr2-cl0*cr3)* x(i)\n",
    "   end do\n",
    "   c0 = 1\n",
    "   if (h > 0) then\n",
    "      do j = 1, h\n",
    "         c0 = c0*(n+1-j)/j\n",
    "      end do\n",
    "   end if\n",
    "   c1 = c0*(n+1-h-1)/(h+1)\n",
    "   c2 = c1*(n+1-h-2)/(h+2)\n",
    "   c3 = c2*(n+1-h-3)/(h+3)\n",
    "   c4 = c3*(n+1-h-4)/(h+4)\n",
    "   lh1 = lh1/c1\n",
    "   lh2 = lh2/c2/2\n",
    "   lh3 = lh3/c3/3\n",
    "   lh4 = lh4/c4/4\n",
    "end subroutine lh"
   ]
  },
  {
   "cell_type": "code",
   "execution_count": null,
   "metadata": {},
   "outputs": [],
   "source": []
  },
  {
   "cell_type": "code",
   "execution_count": null,
   "metadata": {},
   "outputs": [],
   "source": []
  },
  {
   "cell_type": "code",
   "execution_count": null,
   "metadata": {},
   "outputs": [],
   "source": []
  },
  {
   "cell_type": "code",
   "execution_count": null,
   "metadata": {},
   "outputs": [],
   "source": [
    "# AWAP Max\n",
    "ds_awap_annual_max = xr.open_dataset(os.path.join(dir_in,'awap_annual_max.nc'))\n",
    "ds_awap_annual_max_renamed = ds_awap_annual_max.rename({'longitude':'lon','latitude':'lat'})"
   ]
  },
  {
   "cell_type": "code",
   "execution_count": null,
   "metadata": {},
   "outputs": [],
   "source": [
    "# Extract annual maximum timeseries data for a cluster\n",
    "data_awap = []\n",
    "for i in range (0, len(ds_awap_annual_max_renamed.time)): \n",
    "    annual_max = ts_data(ds_awap_annual_max_renamed, 'rain_day', i, which_cluster)\n",
    "    data_awap.append(annual_max)"
   ]
  },
  {
   "cell_type": "code",
   "execution_count": null,
   "metadata": {},
   "outputs": [],
   "source": [
    "ts_awap = pd.DataFrame(data_awap, columns = ['awap'])"
   ]
  },
  {
   "cell_type": "code",
   "execution_count": null,
   "metadata": {},
   "outputs": [],
   "source": [
    "return_period(ts_awap, yT)[0]"
   ]
  },
  {
   "cell_type": "code",
   "execution_count": null,
   "metadata": {},
   "outputs": [],
   "source": [
    "gev_return_period(ts_awap['awap'].values, yT)"
   ]
  },
  {
   "cell_type": "code",
   "execution_count": null,
   "metadata": {},
   "outputs": [],
   "source": [
    "# AWAP Mean\n",
    "ds_awap_mean = xr.open_dataset(os.path.join(dir_in,'awap_mean.nc'))\n",
    "ds_awap_mean_renamed = ds_awap_mean.rename({'longitude':'lon','latitude':'lat'})\n",
    "if parameter=='pr':\n",
    "    ds_awap_cluster_mean = ds_awap_mean_renamed['rain_day'].where(mask == which_cluster)\n",
    "else:\n",
    "    ds_awap_cluster_mean = ds_awap_mean_renamed['qtot'].where(mask == which_cluster)\n",
    "#ds_awap_cluster_mean_avg = ds_awap_cluster_mean.NRM_cluster.mean().item(0)"
   ]
  },
  {
   "cell_type": "code",
   "execution_count": null,
   "metadata": {},
   "outputs": [],
   "source": [
    "ds_awap_annual_max_renamed"
   ]
  },
  {
   "cell_type": "code",
   "execution_count": null,
   "metadata": {},
   "outputs": [],
   "source": [
    "grids = mask.where(mask == which_cluster).NRM_cluster.to_dataframe().reset_index()\n",
    "grids.dropna(axis=0)\n",
    "#.set_index(['lon', 'lat'], drop=False)"
   ]
  },
  {
   "cell_type": "code",
   "execution_count": null,
   "metadata": {},
   "outputs": [],
   "source": [
    "grids"
   ]
  },
  {
   "cell_type": "code",
   "execution_count": null,
   "metadata": {},
   "outputs": [],
   "source": [
    "mask.where(mask == which_cluster).NRM_cluster.plot()"
   ]
  },
  {
   "cell_type": "code",
   "execution_count": null,
   "metadata": {},
   "outputs": [],
   "source": [
    "ds_awap_annual_max_masked = ds_awap_annual_max_renamed['rain_day'].where(mask == which_cluster)"
   ]
  },
  {
   "cell_type": "code",
   "execution_count": null,
   "metadata": {},
   "outputs": [],
   "source": [
    "ds_awap_annual_max_masked"
   ]
  },
  {
   "cell_type": "code",
   "execution_count": null,
   "metadata": {},
   "outputs": [],
   "source": [
    "df_ds_awap_annual_max_masked = ds_awap_annual_max_masked.NRM_cluster.to_dataframe().reset_index(drop = True).set_index(['lon', 'lat'], drop=False)\n",
    "df_ds_awap_annual_max_masked.dropna(axis=0)"
   ]
  },
  {
   "cell_type": "code",
   "execution_count": null,
   "metadata": {},
   "outputs": [],
   "source": [
    "gev_return_period(ts_awap['awap'].values, yT)"
   ]
  },
  {
   "cell_type": "code",
   "execution_count": null,
   "metadata": {},
   "outputs": [],
   "source": []
  },
  {
   "cell_type": "code",
   "execution_count": null,
   "metadata": {},
   "outputs": [],
   "source": [
    "# AWAP Mean\n",
    "ds_awap_mean = xr.open_dataset(os.path.join(dir_in,'awap_mean.nc'))\n",
    "ds_awap_mean_renamed = ds_awap_mean.rename({'longitude':'lon','latitude':'lat'})\n",
    "if parameter=='pr':\n",
    "    ds_awap_cluster_mean = ds_awap_mean_renamed['rain_day'].where(mask == which_cluster)\n",
    "else:\n",
    "    ds_awap_cluster_mean = ds_awap_mean_renamed['qtot'].where(mask == which_cluster)\n",
    "ds_awap_cluster_mean_avg = ds_awap_cluster_mean.NRM_cluster.mean().item(0)\n",
    "\n",
    "# AWAP Max\n",
    "ds_awap_max = xr.open_dataset(os.path.join(dir_in,'awap_max.nc'))\n",
    "ds_awap_max_renamed = ds_awap_max.rename({'longitude':'lon','latitude':'lat'})\n",
    "if parameter=='pr':\n",
    "    ds_awap_cluster_max = ds_awap_max_renamed['rain_day'].where(mask == which_cluster)\n",
    "else:\n",
    "    ds_awap_cluster_max = ds_awap_max_renamed['qtot'].where(mask == which_cluster)\n",
    "ds_awap_cluster_max_avg = ds_awap_cluster_max.NRM_cluster.mean().item(0)"
   ]
  },
  {
   "cell_type": "code",
   "execution_count": null,
   "metadata": {},
   "outputs": [],
   "source": [
    "cluster_flood_indicator=[]\n",
    "for val in enumerate(values):   \n",
    "#for val in enumerate(values[0]):  \n",
    "    #Change in annual mean precipitation/runoff\n",
    "    filename_mean = get_file(parameter,val[1][0],val[1][1],val[1][2],'Mean',yr_end,yr_st)\n",
    "    ds_mean = xr.open_dataset(os.path.join(dir_in,filename_mean)) \n",
    "    ds_cluster_mean = ds_mean[parameter].where(mask == which_cluster)\n",
    "    ds_cluster_mean_avg = ds_cluster_mean.NRM_cluster.mean().item(0)\n",
    "    change_mean = ((ds_cluster_mean_avg-ds_awap_cluster_mean_avg)*100)/ds_awap_cluster_mean_avg   \n",
    "    #Change in annual max precipitation/runoff\n",
    "    filename_max = get_file(parameter,val[1][0],val[1][1],val[1][2],'Max',yr_end,yr_st)\n",
    "    ds_max = xr.open_dataset(os.path.join(dir_in,filename_max)) \n",
    "    ds_cluster_max = ds_max[parameter].where(mask == which_cluster)\n",
    "    ds_cluster_max_avg = ds_cluster_max.NRM_cluster.mean().item(0)\n",
    "    change_max = ((ds_cluster_max_avg-ds_awap_cluster_max_avg)*100)/ds_awap_cluster_max_avg\n",
    "    #Change in return period\n",
    "    filename_annual_max = get_file(parameter,val[1][0],val[1][1],val[1][2],'Annual_Max',yr_end,yr_st)\n",
    "    ds_annual_max = xr.open_dataset(os.path.join(dir_in,filename_annual_max))\n",
    "    # Extract annual daily maximum timeseries data for a cluster\n",
    "    data_gcm = []\n",
    "    for j in range (0, len(ds_annual_max.time)): \n",
    "        annual_max = ts_data(ds_annual_max, parameter, j, which_cluster)\n",
    "        data_gcm.append(annual_max)\n",
    "    ts_gcm = pd.DataFrame(data_gcm, columns = ['gcm'])\n",
    "    gcm_return_period = return_period(ts_gcm, yT)[0]\n",
    "    change_return_period = ((gcm_return_period-awap_return_period)*100)/awap_return_period\n",
    "    dd = {'GCM':val[1][0],'Bias Correction':val[1][2],'Emission':val[1][1],'Change in Annual Mean':change_mean,'Change in Annual Max':change_max, 'Change in Return Period':change_return_period}\n",
    "    cluster_flood_indicator.append(dd)\n",
    "    break # just want to check one loop/one ensemble"
   ]
  }
 ],
 "metadata": {
  "kernelspec": {
   "display_name": "Python 3",
   "language": "python",
   "name": "python3"
  },
  "language_info": {
   "codemirror_mode": {
    "name": "ipython",
    "version": 3
   },
   "file_extension": ".py",
   "mimetype": "text/x-python",
   "name": "python",
   "nbconvert_exporter": "python",
   "pygments_lexer": "ipython3",
   "version": "3.6.9"
  }
 },
 "nbformat": 4,
 "nbformat_minor": 2
}
