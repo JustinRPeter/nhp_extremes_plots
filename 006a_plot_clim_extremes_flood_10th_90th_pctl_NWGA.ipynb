{
 "cells": [
  {
   "cell_type": "code",
   "execution_count": 1,
   "metadata": {},
   "outputs": [],
   "source": [
    "import os, sys\n",
    "import pandas as pd\n",
    "import numpy as np\n",
    "import xarray as xr\n",
    "from itertools import product\n",
    "from datetime import datetime, timedelta\n",
    "from scipy.stats import scoreatpercentile # calculate percentile\n",
    "import seaborn as sns\n",
    "import matplotlib\n",
    "import matplotlib.pyplot as plt\n",
    "from matplotlib.backends.backend_pdf import PdfPages\n",
    "from matplotlib.colors import LogNorm\n",
    "from matplotlib.colors import SymLogNorm\n",
    "import matplotlib.dates as mdates\n",
    "from mpl_toolkits.basemap import Basemap\n",
    "import matplotlib.patches as mpatches # legend add manually"
   ]
  },
  {
   "cell_type": "code",
   "execution_count": 2,
   "metadata": {},
   "outputs": [],
   "source": [
    "parameter = 'rain_day'\n",
    "catchment = 'Central West River Catchment'"
   ]
  },
  {
   "cell_type": "code",
   "execution_count": 3,
   "metadata": {},
   "outputs": [],
   "source": [
    "dir_in = '/g/data/er4/zk6340/Hydro_projection'\n",
    "dir_out = '/g/data/er4/zk6340/Hydro_projection'"
   ]
  },
  {
   "cell_type": "code",
   "execution_count": 4,
   "metadata": {},
   "outputs": [],
   "source": [
    "ds = pd.read_csv(os.path.join(dir_in, '%s_%s.csv')%(parameter,catchment), index_col = 0)"
   ]
  },
  {
   "cell_type": "code",
   "execution_count": 5,
   "metadata": {},
   "outputs": [],
   "source": [
    "# add few columns\n",
    "ds['Change in Daily Mean']=(ds['Mean over future period']-ds['Mean over historical period'])*100/ds['Mean over historical period']\n",
    "ds['Change in Daily Max']=(ds['Max over future period']-ds['Max over historical period'])*100/ds['Max over historical period']\n",
    "ds['Change in Return Period']=(ds['20-yr yT over future period']-ds['20-yr yT over historical period'])*100/ds['20-yr yT over historical period']"
   ]
  },
  {
   "cell_type": "code",
   "execution_count": 6,
   "metadata": {},
   "outputs": [],
   "source": [
    "def calculate_perc(ds,year):\n",
    "    column_names = ['Change in Daily Mean','Change in Daily Max','Change in Return Period']\n",
    "    ds_merge = []\n",
    "    for col_name in enumerate(column_names): \n",
    "        ds['Percentage Change'] = ds[col_name[1]]\n",
    "        ds['Indicator'] = col_name[1]\n",
    "        ds_one = ds.drop(['Change in Daily Mean','Change in Daily Max','Change in Return Period'], axis=1)\n",
    "        ds_merge.append(ds_one)\n",
    "    ds_complete = pd.concat([ds_merge[0],ds_merge[1],ds_merge[2]])\n",
    "    ds_complete.loc[ds_complete['Indicator'] == 'Change in Daily Mean', 'Indicator'] = 'Daily Mean'\n",
    "    ds_complete.loc[ds_complete['Indicator'] == 'Change in Daily Max', 'Indicator'] = 'Daily Max'\n",
    "    ds_complete.loc[ds_complete['Indicator'] == 'Change in Return Period', 'Indicator'] = 'Return Period'\n",
    "    ds_scenario = ds_complete[ds_complete['Scenario']==year]\n",
    "    def ds_plot(which_indicator,which_rcp):\n",
    "        ds_indicator = ds_scenario[ds_scenario['Indicator']==which_indicator]\n",
    "        what_change = ds_indicator[ds_indicator['Emission']==which_rcp]['Percentage Change']\n",
    "        return(what_change)\n",
    "    perc = [scoreatpercentile(ds_plot('Daily Mean','rcp45'),10), scoreatpercentile(ds_plot('Daily Mean','rcp45'),50)\n",
    "            ,scoreatpercentile(ds_plot('Daily Mean','rcp45'),50), scoreatpercentile(ds_plot('Daily Mean','rcp45'),90)\n",
    "            ,scoreatpercentile(ds_plot('Daily Mean','rcp85'),10), scoreatpercentile(ds_plot('Daily Mean','rcp85'),50)\n",
    "            ,scoreatpercentile(ds_plot('Daily Mean','rcp85'),50), scoreatpercentile(ds_plot('Daily Mean','rcp85'),90)\n",
    "            ,scoreatpercentile(ds_plot('Daily Max','rcp45'),10),scoreatpercentile(ds_plot('Daily Max','rcp45'),50)\n",
    "            ,scoreatpercentile(ds_plot('Daily Max','rcp45'),50),scoreatpercentile(ds_plot('Daily Max','rcp45'),90)\n",
    "            ,scoreatpercentile(ds_plot('Daily Max','rcp85'),10),scoreatpercentile(ds_plot('Daily Max','rcp85'),50)\n",
    "            ,scoreatpercentile(ds_plot('Daily Max','rcp85'),50),scoreatpercentile(ds_plot('Daily Max','rcp85'),90)\n",
    "            ,scoreatpercentile(ds_plot('Return Period','rcp45'),10),scoreatpercentile(ds_plot('Return Period','rcp45'),50)\n",
    "            ,scoreatpercentile(ds_plot('Return Period','rcp45'),50),scoreatpercentile(ds_plot('Return Period','rcp45'),90)\n",
    "            ,scoreatpercentile(ds_plot('Return Period','rcp85'),10),scoreatpercentile(ds_plot('Return Period','rcp85'),50)\n",
    "            ,scoreatpercentile(ds_plot('Return Period','rcp85'),50),scoreatpercentile(ds_plot('Return Period','rcp85'),90)]\n",
    "    return(perc)"
   ]
  },
  {
   "cell_type": "code",
   "execution_count": 7,
   "metadata": {},
   "outputs": [],
   "source": [
    "ds_perc0 = calculate_perc(ds,2030)\n",
    "ds_perc1 = calculate_perc(ds,2070)"
   ]
  },
  {
   "cell_type": "code",
   "execution_count": 8,
   "metadata": {},
   "outputs": [
    {
     "data": {
      "image/png": "[encoded data removed]",
      "text/plain": [
       "<Figure size 1080x756 with 2 Axes>"
      ]
     },
     "metadata": {
      "needs_background": "light"
     },
     "output_type": "display_data"
    }
   ],
   "source": [
    "fig, ax = plt.subplots()\n",
    "fig.set_size_inches((15, 10.5))\n",
    "ax.set_facecolor('floralwhite')\n",
    "\n",
    "ax.broken_barh([(1,0.2)], (ds_perc0[0], ds_perc0[1]-ds_perc0[0]),color ='lightskyblue',edgecolor = 'w')\n",
    "ax.broken_barh([(1,0.2)], (ds_perc0[2], ds_perc0[3]-ds_perc0[2]),color ='lightskyblue',edgecolor = 'w')\n",
    "ax.broken_barh([(1.25,0.2)], (ds_perc0[4], ds_perc0[5]-ds_perc0[4]),color ='r',edgecolor = 'w')\n",
    "ax.broken_barh([(1.25,0.2)], (ds_perc0[6], ds_perc0[7]-ds_perc0[6]),color ='r',edgecolor = 'w')\n",
    "ax.broken_barh([(3.4,0.2)], (ds_perc0[8], ds_perc0[9]-ds_perc0[8]),color ='lightskyblue',edgecolor = 'w')\n",
    "ax.broken_barh([(3.4,0.2)], (ds_perc0[10], ds_perc0[11]-ds_perc0[10]),color ='lightskyblue',edgecolor = 'w')\n",
    "ax.broken_barh([(3.65,0.2)], (ds_perc0[12], ds_perc0[13]-ds_perc0[12]),color ='r',edgecolor = 'w')\n",
    "ax.broken_barh([(3.65,0.2)], (ds_perc0[14], ds_perc0[15]-ds_perc0[14]),color ='r',edgecolor = 'w')\n",
    "ax.broken_barh([(5.65,0.2)], (ds_perc0[16], ds_perc0[17]-ds_perc0[16]),color ='lightskyblue',edgecolor = 'w')\n",
    "ax.broken_barh([(5.65,0.2)], (ds_perc0[18], ds_perc0[19]-ds_perc0[18]),color ='lightskyblue',edgecolor = 'w')\n",
    "ax.broken_barh([(5.90,0.2)], (ds_perc0[20], ds_perc0[21]-ds_perc0[20]),color ='r',edgecolor = 'w')\n",
    "ax.broken_barh([(5.90,0.2)], (ds_perc0[22], ds_perc0[23]-ds_perc0[22]),color ='r',edgecolor = 'w')\n",
    "\n",
    "ax.broken_barh([(1.6,0.2)], (ds_perc1[0], ds_perc1[1]-ds_perc1[0]),color ='lightskyblue',edgecolor = 'w')\n",
    "ax.broken_barh([(1.6,0.2)], (ds_perc1[2], ds_perc1[3]-ds_perc1[2]),color ='lightskyblue',edgecolor = 'w')\n",
    "ax.broken_barh([(1.85,0.2)], (ds_perc1[4], ds_perc1[5]-ds_perc1[4]),color ='r',edgecolor = 'w')\n",
    "ax.broken_barh([(1.85,0.2)], (ds_perc1[6], ds_perc1[7]-ds_perc1[6]),color ='r',edgecolor = 'w')\n",
    "ax.broken_barh([(4.0,0.2)], (ds_perc1[8], ds_perc1[9]-ds_perc1[8]),color ='lightskyblue',edgecolor = 'w')\n",
    "ax.broken_barh([(4.0,0.2)], (ds_perc1[10], ds_perc1[11]-ds_perc1[10]),color ='lightskyblue',edgecolor = 'w')\n",
    "ax.broken_barh([(4.25,0.2)], (ds_perc1[12], ds_perc1[13]-ds_perc1[12]),color ='r',edgecolor = 'w')\n",
    "ax.broken_barh([(4.25,0.2)], (ds_perc1[14], ds_perc1[15]-ds_perc1[14]),color ='r',edgecolor = 'w')\n",
    "ax.broken_barh([(6.25,0.2)], (ds_perc1[16], ds_perc1[17]-ds_perc1[16]),color ='lightskyblue',edgecolor = 'w')\n",
    "ax.broken_barh([(6.25,0.2)], (ds_perc1[18], ds_perc1[19]-ds_perc1[18]),color ='lightskyblue',edgecolor = 'w')\n",
    "ax.broken_barh([(6.50,0.2)], (ds_perc1[20], ds_perc1[21]-ds_perc1[20]),color ='r',edgecolor = 'w')\n",
    "ax.broken_barh([(6.50,0.2)], (ds_perc1[22], ds_perc1[23]-ds_perc1[22]),color ='r',edgecolor = 'w')\n",
    "\n",
    "#ax.set_xticklabels([])\n",
    "rcp45 = mpatches.Patch(color='lightskyblue', label='rcp45')\n",
    "rcp85 = mpatches.Patch(color='r', label='rcp85')\n",
    "plt.legend(handles=[rcp45,rcp85], bbox_to_anchor=(1.01, 1), loc='upper left')\n",
    "#plt.legend(loc=\"upper left\")\n",
    "plt.axhline(y=0, color='k', linestyle='--')\n",
    "plt.ylabel(\"% Change in future period relative to historical period (1976-2005)\", size=16)\n",
    "plt.xlabel(\"\",size=16)\n",
    "plt.xticks(fontsize=14)\n",
    "plt.yticks(fontsize=14)\n",
    "\n",
    "# Adding label\n",
    "x_main = np.array([1.5,3.8,6.15])\n",
    "main_xticks = ['Daily Mean','Daily Max','Return Period']\n",
    "plt.xticks(x_main, main_xticks)\n",
    "#plt.tick_params(axis='x', which='major', pad=50)\n",
    "\n",
    "# create second Axes. Note the 0.0 height #### this part is manually tuned - need to automatise\n",
    "ax2 = fig.add_axes((0.13,0.88,0.7,0))\n",
    "ax2.yaxis.set_visible(False) # hide the yaxis\n",
    "x_minor = np.array([0.6,1.2,3.3,3.9,5.85,6.45])\n",
    "minor_xticks = ['2016-2045','2056-2085','2016-2045','2056-2085','2016-2045','2056-2085']\n",
    "ax2.set_xticks(x_minor)\n",
    "ax2.set_xticklabels(minor_xticks)\n",
    "\n",
    "#plt.show()\n",
    "#plt.title(\"Projected Flood Scenario over %s\"%(which_cluster), size=18)\n",
    "output_file = 'Flood_plot_%s_%s.jpeg'%(parameter,catchment) \n",
    "plt.savefig(os.path.join(dir_out,output_file))"
   ]
  },
  {
   "cell_type": "code",
   "execution_count": 9,
   "metadata": {},
   "outputs": [],
   "source": [
    "# a = ds0[ds0['Emission']=='rcp45']['Change in Daily Mean']\n",
    "# print(np.percentile(a, 10))\n",
    "# print(np.percentile(a, 50))\n",
    "# print(np.percentile(a, 90))"
   ]
  }
 ],
 "metadata": {
  "kernelspec": {
   "display_name": "Python 3",
   "language": "python",
   "name": "python3"
  },
  "language_info": {
   "codemirror_mode": {
    "name": "ipython",
    "version": 3
   },
   "file_extension": ".py",
   "mimetype": "text/x-python",
   "name": "python",
   "nbconvert_exporter": "python",
   "pygments_lexer": "ipython3",
   "version": "3.6.9"
  }
 },
 "nbformat": 4,
 "nbformat_minor": 2
}
