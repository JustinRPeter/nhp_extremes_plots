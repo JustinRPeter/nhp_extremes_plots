{
 "cells": [
  {
   "cell_type": "code",
   "execution_count": 1,
   "metadata": {},
   "outputs": [
    {
     "name": "stderr",
     "output_type": "stream",
     "text": [
      "/g/data/er4/vd5822/miniconda3/envs/awra-cms/lib/python3.6/site-packages/dask/config.py:168: YAMLLoadWarning: calling yaml.load() without Loader=... is deprecated, as the default Loader is unsafe. Please read https://msg.pyyaml.org/load for full details.\n",
      "  data = yaml.load(f.read()) or {}\n",
      "/g/data/er4/vd5822/miniconda3/envs/awra-cms/lib/python3.6/site-packages/distributed/config.py:20: YAMLLoadWarning: calling yaml.load() without Loader=... is deprecated, as the default Loader is unsafe. Please read https://msg.pyyaml.org/load for full details.\n",
      "  defaults = yaml.load(f)\n"
     ]
    }
   ],
   "source": [
    "import os, sys\n",
    "import pandas as pd\n",
    "import numpy as np\n",
    "import xarray as xr\n",
    "import math\n",
    "from itertools import product\n",
    "from datetime import datetime, timedelta\n",
    "import argparse\n",
    "import logging\n",
    "from scipy.special import gamma, factorial #gamma function\n",
    "from scipy.stats import skew\n",
    "from scipy.stats import norm\n",
    "sys.path.append('/g/data/er4/zk6340/code/hydrodiy')\n",
    "from hydrodiy.io import iutils\n",
    "import errno\n",
    "sys.path.append('/g/data/er4/zk6340/code/Script_CaRSA')\n",
    "import grFor # generated python wrapper package\n",
    "%matplotlib inline"
   ]
  },
  {
   "cell_type": "code",
   "execution_count": 2,
   "metadata": {},
   "outputs": [],
   "source": [
    "## dir folder path\n",
    "dir_in = '/g/data/er4/zk6340/Hydro_projection/data_flood_scenario_qtot'\n",
    "dir_out = '/g/data/er4/zk6340/code/Script_Hydro-projections'\n",
    "\n",
    "# parameter\n",
    "parameter = 'qtot'\n",
    "\n",
    "# Which cluster\n",
    "clusters = {'CS':1,'EC':2,'MB':4,'MN':5,'R':6,'SS':7,'SSWF':8,'WT':9}\n",
    "which_cluster = clusters['R']\n",
    "\n",
    "# return period\n",
    "yT = 100\n",
    "\n",
    "# historical period\n",
    "hist_st = '19760101'\n",
    "hist_end = '20051231'\n",
    "\n",
    "# projection period\n",
    "yr_st = '20560101'\n",
    "yr_end = '20851231'\n",
    "\n",
    "# Participating GCMs, Bias correction approaches, Emission scenarios\n",
    "gcms = ['CNRM-CERFACS-CNRM-CM5']\n",
    "bias_corr = ['r240x120-MRNBC-AWAP']\n",
    "emission = ['rcp45']\n",
    "# gcms = ['CNRM-CERFACS-CNRM-CM5','CSIRO-BOM-ACCESS1-0','MIROC-MIROC5','NOAA-GFDL-GFDL-ESM2M']\n",
    "# bias_corr = ['CSIRO-CCAM-r3355-r240x120-ISIMIP2b-AWAP','r240x120-ISIMIP2b-AWAP', 'r240x120-MRNBC-AWAP', 'r240x120-QME-AWAP']\n",
    "# emission = ['rcp45','rcp85']"
   ]
  },
  {
   "cell_type": "code",
   "execution_count": 3,
   "metadata": {},
   "outputs": [],
   "source": [
    "#Function to get to the historical/scenario file\n",
    "def get_file(parameter,which_gcm,which_emission,which_bias_corr, which_metric, yr_end, yr_st):\n",
    "    base_filename = '%s_AUS-5_%s_%s_r1i1p1_%s_%s_%s-%s.nc'%(parameter,which_gcm,which_emission,which_bias_corr,which_metric,yr_end,yr_st)\n",
    "    return(base_filename)"
   ]
  },
  {
   "cell_type": "code",
   "execution_count": 4,
   "metadata": {},
   "outputs": [],
   "source": [
    "#Function to get percentage change for 'Mean' and 'Max'\n",
    "def percentage_change(parameter, gcm, scenario, bias_correction, statistics, hist_end, hist_st, yr_end, yr_st):\n",
    "    # Historical period\n",
    "    filename_hist = get_file(parameter, gcm,'historical', bias_correction, statistics, hist_end, hist_st)\n",
    "    ds_hist = xr.open_dataset(os.path.join(dir_in,filename_hist)) \n",
    "    ds_hist_cluster = ds_hist[parameter].where(mask == which_cluster)\n",
    "    ds_hist_cluster_spatial_mean = ds_hist_cluster.NRM_cluster.mean().item(0)\n",
    "    # Future scenario\n",
    "    filename_scenario = get_file(parameter, gcm, scenario, bias_correction, statistics,yr_end,yr_st)\n",
    "    ds_scenario = xr.open_dataset(os.path.join(dir_in,filename_scenario)) \n",
    "    ds_scenario_cluster = ds_scenario[parameter].where(mask == which_cluster)\n",
    "    ds_scenario_cluster_spatial_mean = ds_scenario_cluster.NRM_cluster.mean().item(0)   \n",
    "    percent_change = ((ds_scenario_cluster_spatial_mean-ds_hist_cluster_spatial_mean)*100)/ds_hist_cluster_spatial_mean  \n",
    "    return(percent_change)"
   ]
  },
  {
   "cell_type": "code",
   "execution_count": 5,
   "metadata": {},
   "outputs": [],
   "source": [
    "#Function to calculate return period: GEV distribution\n",
    "def gev_return_period(ds, T):\n",
    "    data= np.sort(ds)\n",
    "    lamda1= grFor.lh(data,0,len(data))[0]\n",
    "    lamda2= grFor.lh(data,0,len(data))[1]\n",
    "    lamda3= grFor.lh(data,0,len(data))[2]\n",
    "    lamda4= grFor.lh(data,0,len(data))[3]\n",
    "    c=(2*lamda2/(lamda3+3*lamda2))-(np.log(2)/np.log(3))\n",
    "    k=7.859*c+2.9554*c**2\n",
    "    alpha=k*lamda2/(gamma(1+k)*(1-2**(-k)))\n",
    "    zeta=lamda1-alpha/k*(1-(gamma(1+k)))\n",
    "    qt=zeta+(alpha/k)*(1-(-np.log(1-1/T))**k)\n",
    "    return(qt)"
   ]
  },
  {
   "cell_type": "code",
   "execution_count": 6,
   "metadata": {},
   "outputs": [],
   "source": [
    "#Function to get annual maximum timeseries for a grid cell\n",
    "def ts_data(dataset, lat, lon, parameter):\n",
    "    ds = dataset.sel(lat = lat, lon = lon, method = 'nearest')[parameter].values\n",
    "    return(ds)"
   ]
  },
  {
   "cell_type": "code",
   "execution_count": 7,
   "metadata": {},
   "outputs": [],
   "source": [
    "# Read cluster mask\n",
    "mask = xr.open_dataset(os.path.join(dir_in,'NRM_clusters.nc'))"
   ]
  },
  {
   "cell_type": "code",
   "execution_count": 8,
   "metadata": {},
   "outputs": [],
   "source": [
    "# picking up grid cells for a particular cluster\n",
    "grid_cells = mask.where(mask == which_cluster).NRM_cluster.to_dataframe().reset_index()\n",
    "grid_cells = grid_cells.dropna(axis=0).reset_index()"
   ]
  },
  {
   "cell_type": "code",
   "execution_count": 9,
   "metadata": {},
   "outputs": [],
   "source": [
    "values = [(i, k, x) for i, k, x in product(gcms,emission, bias_corr)]"
   ]
  },
  {
   "cell_type": "code",
   "execution_count": 10,
   "metadata": {},
   "outputs": [
    {
     "data": {
      "text/plain": [
       "[('CNRM-CERFACS-CNRM-CM5', 'rcp45', 'r240x120-MRNBC-AWAP')]"
      ]
     },
     "execution_count": 10,
     "metadata": {},
     "output_type": "execute_result"
    }
   ],
   "source": [
    "values"
   ]
  },
  {
   "cell_type": "markdown",
   "metadata": {},
   "source": [
    "### Faster code"
   ]
  },
  {
   "cell_type": "code",
   "execution_count": 11,
   "metadata": {},
   "outputs": [
    {
     "data": {
      "text/plain": [
       "'CNRM-CERFACS-CNRM-CM5'"
      ]
     },
     "execution_count": 11,
     "metadata": {},
     "output_type": "execute_result"
    }
   ],
   "source": [
    "values[0][0]"
   ]
  },
  {
   "cell_type": "code",
   "execution_count": null,
   "metadata": {},
   "outputs": [],
   "source": [
    "# grid_cells = grid_cells.loc[109234:109250]\n",
    "# grid_cells.reset_index(inplace=True, drop=True)"
   ]
  },
  {
   "cell_type": "code",
   "execution_count": 12,
   "metadata": {
    "scrolled": true
   },
   "outputs": [],
   "source": [
    "change_daily_mean = percentage_change(parameter, values[0][0], values[0][1], values[0][2], 'Mean', hist_end, hist_st, yr_end, yr_st)\n",
    "\n",
    "#Change in max\n",
    "change_daily_max = percentage_change(parameter, values[0][0], values[0][1], values[0][2], 'Max', hist_end, hist_st, yr_end, yr_st)  \n",
    "\n",
    "#Change in return period\n",
    "# Annual Max - for historical period\n",
    "filename_hist_annual_max = get_file(parameter,values[0][0],'historical',values[0][2],'Annual_Max',hist_end,hist_st)\n",
    "ds_hist_annual_max = xr.open_dataset(os.path.join(dir_in,filename_hist_annual_max))\n",
    "# Annual Max - for scenario period\n",
    "filename_scenario_annual_max = get_file(parameter,values[0][0],values[0][1],values[0][2],'Annual_Max',yr_end,yr_st)\n",
    "ds_scenario_annual_max = xr.open_dataset(os.path.join(dir_in,filename_scenario_annual_max))  \n",
    "# # calculate retrun period for the historical period\n",
    "# all_yT = []\n",
    "# for i in range (0, len(grid_cells)): \n",
    "#     print('Dealing with {},{}'.format(grid_cells.lat[i],grid_cells.lon[i]))\n",
    "#     try:\n",
    "#         hist_yT_point = gev_return_period(ts_data(ds_hist_annual_max, grid_cells.lat[i], grid_cells.lon[i], parameter), yT)\n",
    "#         scenario_yT_point = gev_return_period(ts_data(ds_scenario_annual_max, grid_cells.lat[i], grid_cells.lon[i], parameter), yT)       \n",
    "#     except Exception as err:\n",
    "#         print('Error in timeseries') \n",
    "#         #hist_yT_point = math.nan\n",
    "#         continue # it means next iteration\n",
    "#     #scenario_yT_point = gev_return_period(ts_data(ds_scenario_annual_max, grid_cells.lat[i], grid_cells.lon[i], parameter), yT)       \n",
    "#     yT_point = {'hist_yT':hist_yT_point,'future_yT':scenario_yT_point}\n",
    "#     all_yT.append(yT_point)\n",
    "# all_return_period = pd.DataFrame(all_yT)   \n",
    "# change_return_period = ((all_return_period['future_yT'].mean()-all_return_period['hist_yT'].mean())*100)/all_return_period['hist_yT'].mean()   \n",
    "# dd = {'GCM':values[0][0],'Bias Correction':values[0][2],'Emission':values[0][1],'Change in Daily Mean':change_daily_mean,'Change in daily Max':change_daily_max, 'Change in Return Period':change_return_period}"
   ]
  },
  {
   "cell_type": "code",
   "execution_count": null,
   "metadata": {},
   "outputs": [],
   "source": [
    "all_return_period"
   ]
  },
  {
   "cell_type": "code",
   "execution_count": null,
   "metadata": {},
   "outputs": [],
   "source": [
    "filename_hist_annual_max = get_file(parameter,values[0][0],'historical',values[0][2],'Annual_Max',hist_end,hist_st)\n",
    "ds_hist_annual_max = xr.open_dataset(os.path.join(dir_in,filename_hist_annual_max))"
   ]
  },
  {
   "cell_type": "code",
   "execution_count": null,
   "metadata": {},
   "outputs": [],
   "source": [
    "ds_hist_annual_max"
   ]
  },
  {
   "cell_type": "code",
   "execution_count": 24,
   "metadata": {},
   "outputs": [
    {
     "data": {
      "text/plain": [
       "3.0658129885519836e-10"
      ]
     },
     "execution_count": 24,
     "metadata": {},
     "output_type": "execute_result"
    }
   ],
   "source": [
    "x = gev_return_period(ds_hist_annual_max.sel(lat = -23.65, lon = 125.75, method = 'nearest')[parameter].values,yT)\n",
    "x"
   ]
  },
  {
   "cell_type": "code",
   "execution_count": 25,
   "metadata": {},
   "outputs": [
    {
     "data": {
      "text/plain": [
       "2.6134352694075496"
      ]
     },
     "execution_count": 25,
     "metadata": {},
     "output_type": "execute_result"
    }
   ],
   "source": [
    "y = gev_return_period(ds_scenario_annual_max.sel(lat = -23.65, lon = 125.75, method = 'nearest')[parameter].values,yT)\n",
    "y"
   ]
  },
  {
   "cell_type": "code",
   "execution_count": 23,
   "metadata": {},
   "outputs": [
    {
     "data": {
      "text/plain": [
       "852444450741.04846"
      ]
     },
     "execution_count": 23,
     "metadata": {},
     "output_type": "execute_result"
    }
   ],
   "source": [
    "((y-x)*100)/x"
   ]
  },
  {
   "cell_type": "code",
   "execution_count": 26,
   "metadata": {},
   "outputs": [
    {
     "data": {
      "text/plain": [
       "array([  1.31011282e-19,   1.31011282e-19,   1.31011282e-19,\n",
       "         1.31011282e-19,   1.31011282e-19,   1.31011282e-19,\n",
       "         1.31011282e-19,   1.31011282e-19,   1.31011282e-19,\n",
       "         1.31011282e-19,   1.31011282e-19,   1.31011282e-19,\n",
       "         1.31011282e-19,   1.31011282e-19,   1.31011282e-19,\n",
       "         1.31011282e-19,   1.31011282e-19,   4.58317961e-09,\n",
       "         1.31011282e-19,   1.31011282e-19,   1.31011282e-19,\n",
       "         1.31011282e-19,   1.31011282e-19,   1.31011282e-19,\n",
       "         1.31011282e-19,   1.31011282e-19,   1.31011282e-19,\n",
       "         1.31011282e-19,   1.31011282e-19,   1.31011282e-19])"
      ]
     },
     "execution_count": 26,
     "metadata": {},
     "output_type": "execute_result"
    }
   ],
   "source": [
    "ds_hist_annual_max.sel(lat = -23.65, lon = 125.75, method = 'nearest')[parameter].values"
   ]
  },
  {
   "cell_type": "code",
   "execution_count": 27,
   "metadata": {},
   "outputs": [
    {
     "data": {
      "text/plain": [
       "array([  2.27031222e-07,   3.12141441e-02,   1.02710271e-06,\n",
       "         3.64120274e-06,   2.37137712e-07,   1.31490378e-06,\n",
       "         3.82734235e-08,   4.06760051e-07,   1.54148173e+00,\n",
       "         1.48721097e-06,   1.17417322e-07,   1.35131449e-06,\n",
       "         2.05305639e-07,   1.15254545e-06,   3.22539364e-07,\n",
       "         2.48145852e-07,   2.13189242e-06,   7.92756794e-08,\n",
       "         1.01453770e-06,   8.00709756e-07,   1.56703830e+00,\n",
       "         3.04474247e-06,   8.53491411e-09,   1.61021101e+00,\n",
       "         1.62529498e-01,   3.18775773e-01,   2.00023174e+00,\n",
       "         2.09873491e-07,   4.05355564e-07,   2.15996874e-06])"
      ]
     },
     "execution_count": 27,
     "metadata": {},
     "output_type": "execute_result"
    }
   ],
   "source": [
    "ds_scenario_annual_max.sel(lat = -23.65, lon = 125.75, method = 'nearest')[parameter].values"
   ]
  },
  {
   "cell_type": "code",
   "execution_count": null,
   "metadata": {},
   "outputs": [],
   "source": [
    "grid_cells"
   ]
  },
  {
   "cell_type": "code",
   "execution_count": null,
   "metadata": {},
   "outputs": [],
   "source": [
    "all_return_period"
   ]
  },
  {
   "cell_type": "code",
   "execution_count": null,
   "metadata": {},
   "outputs": [],
   "source": [
    "change_return_period"
   ]
  },
  {
   "cell_type": "code",
   "execution_count": null,
   "metadata": {},
   "outputs": [],
   "source": [
    "dd"
   ]
  },
  {
   "cell_type": "code",
   "execution_count": null,
   "metadata": {},
   "outputs": [],
   "source": [
    "df = pd.concat([grid_cells, all_return_period], axis=1)"
   ]
  },
  {
   "cell_type": "code",
   "execution_count": null,
   "metadata": {},
   "outputs": [],
   "source": [
    "df['perc_change']=((all_return_period['future_yT']-all_return_period['hist_yT'])*100)/all_return_period['hist_yT']"
   ]
  },
  {
   "cell_type": "code",
   "execution_count": null,
   "metadata": {
    "scrolled": true
   },
   "outputs": [],
   "source": [
    "df"
   ]
  },
  {
   "cell_type": "code",
   "execution_count": null,
   "metadata": {},
   "outputs": [],
   "source": [
    "df = df.drop(['index','NRM_cluster','hist_yT','future_yT'], axis = 1)\n",
    "#df.rename(columns={df.columns[2]:'perc_change'}, inplace=True)"
   ]
  },
  {
   "cell_type": "code",
   "execution_count": null,
   "metadata": {
    "scrolled": true
   },
   "outputs": [],
   "source": [
    "df"
   ]
  },
  {
   "cell_type": "code",
   "execution_count": null,
   "metadata": {},
   "outputs": [],
   "source": [
    "fig, axes = plt.subplots(1, 1)\n",
    "fig.set_size_inches((15, 10.5))\n",
    "# map = Basemap(140.,-45.,155,-10.5,ax=axes, \n",
    "#            lat_0=24.75, lon_0=134.0, lat_1=-10, lat_2=-40,\n",
    "#             rsphere=(6378137.00,6356752.3142),\n",
    "#             projection='cyl')\n",
    "map = Basemap(110.,-45.,155,-9., ax=axes,\n",
    "            lat_0=24.75, lon_0=134.0, lat_1=-10, lat_2=-40,\n",
    "            rsphere=(6378137.00,6356752.3142),\n",
    "            projection='cyl')\n",
    "map.drawcoastlines()\n",
    "map.drawstates()\n",
    "map.drawlsmask(land_color='white', ocean_color='white')\n",
    "map.drawcountries()\n",
    "sc = plt.scatter(x=df['lon'], y=df['lat'], c=df['perc_change'], marker=',', cmap='RdYlBu_r')\n",
    "cbar = plt.colorbar(sc, shrink=0.5)\n",
    "cbar.set_label('% change in 100yr ARI flood severity', rotation=90)\n",
    "#plt.scatter(152, -30.6)\n",
    "#plt.scatter(151.15,-26.1)\n",
    "# output_file = 'perc change in 100yr ARI flood severity - %s - %s'%(parameter, yr_st) \n",
    "# plt.savefig(os.path.join(dir_out,output_file),bbox_inches='tight')\n",
    "# plt.show()"
   ]
  },
  {
   "cell_type": "code",
   "execution_count": null,
   "metadata": {},
   "outputs": [],
   "source": [
    "df[df['perc_change'] == df['perc_change'].max()]"
   ]
  },
  {
   "cell_type": "code",
   "execution_count": 17,
   "metadata": {},
   "outputs": [
    {
     "data": {
      "text/plain": [
       "[<matplotlib.lines.Line2D at 0x7f4a7cbd2278>]"
      ]
     },
     "execution_count": 17,
     "metadata": {},
     "output_type": "execute_result"
    },
    {
     "data": {
      "image/png": "[encoded data removed]",
      "text/plain": [
       "<Figure size 432x288 with 1 Axes>"
      ]
     },
     "metadata": {
      "needs_background": "light"
     },
     "output_type": "display_data"
    }
   ],
   "source": [
    "plt.plot(ds_scenario_annual_max.sel(lat = -23.65, lon = 125.75, method = 'nearest')[parameter].values)\n",
    "plt.plot(ds_hist_annual_max.sel(lat = -23.65, lon = 125.75, method = 'nearest')[parameter].values)"
   ]
  },
  {
   "cell_type": "code",
   "execution_count": null,
   "metadata": {},
   "outputs": [],
   "source": [
    "output_dir='/g/data/er4/zk6340/Hydro_projection/data_flood_scenario_pr/20160101-20451231'\n",
    "output_file= 'test_all_return.csv'\n",
    "all_return_period.to_csv((os.path.join(output_dir,output_file)), index=True)"
   ]
  },
  {
   "cell_type": "code",
   "execution_count": null,
   "metadata": {},
   "outputs": [],
   "source": [
    "df_plot=df[df.isnull().any(axis=1)]"
   ]
  },
  {
   "cell_type": "code",
   "execution_count": null,
   "metadata": {},
   "outputs": [],
   "source": [
    "map = Basemap(110.,-45.,155,-10.5, \n",
    "           lat_0=24.75, lon_0=134.0, lat_1=-10, lat_2=-40,\n",
    "            rsphere=(6378137.00,6356752.3142),\n",
    "            projection='cyl')\n",
    "map.drawcoastlines()\n",
    "map.drawstates()\n",
    "map.drawlsmask(land_color='white', ocean_color='white')\n",
    "map.drawcountries()\n",
    "plt.scatter(x=df_plot['lon'], y=df_plot['lat'], marker=',', color='red')\n",
    "output_file = 'test.jpeg' \n",
    "plt.savefig(os.path.join(output_dir,output_file))"
   ]
  },
  {
   "cell_type": "code",
   "execution_count": null,
   "metadata": {},
   "outputs": [],
   "source": [
    "gev_return_period(ds_hist_annual_max.sel(lat = -24.8, lon = 147.2, method = 'nearest')[parameter].values,yT)"
   ]
  },
  {
   "cell_type": "code",
   "execution_count": null,
   "metadata": {},
   "outputs": [],
   "source": [
    "gev_return_period(ds_scenario_annual_max.sel(lat = -24.8, lon = 147.2, method = 'nearest')[parameter].values,yT)"
   ]
  },
  {
   "cell_type": "code",
   "execution_count": null,
   "metadata": {},
   "outputs": [],
   "source": [
    "from scipy.special import gamma, factorial #gamma function\n",
    "from scipy.stats import skew\n",
    "from scipy.stats import norm"
   ]
  },
  {
   "cell_type": "code",
   "execution_count": null,
   "metadata": {},
   "outputs": [],
   "source": [
    "#Function to calculate return period: LP3 distribution\n",
    "def lp3_return_period(data, T):\n",
    "    xbar=np.mean(data)\n",
    "    stdev=np.std(data)\n",
    "    xskew=skew(data)\n",
    "    zp=norm.ppf(1-1/T)\n",
    "    ff=(2/xskew)*((1+(zp*xskew)/6-xskew**2/36)**3)-2/xskew\n",
    "    qt=xbar+stdev*ff\n",
    "    return(qt)"
   ]
  },
  {
   "cell_type": "code",
   "execution_count": null,
   "metadata": {},
   "outputs": [],
   "source": [
    "#Function to calculate return period: EV1/Gumble distribution\n",
    "def ev1_return_period(data, T):\n",
    "    xbar=np.mean(data)\n",
    "    stdev=np.std(data)\n",
    "    ff=np.sqrt(6)/3.1416*(-0.5772-np.log(-np.log(1-1/T))) \n",
    "    qt=xbar+stdev*ff\n",
    "    return(qt)"
   ]
  },
  {
   "cell_type": "code",
   "execution_count": null,
   "metadata": {},
   "outputs": [],
   "source": [
    "lp3_return_period(ds_hist_annual_max.sel(lat = -24.8, lon = 147.2, method = 'nearest')[parameter].values,yT)"
   ]
  },
  {
   "cell_type": "code",
   "execution_count": null,
   "metadata": {},
   "outputs": [],
   "source": [
    "ev1_return_period(ds_hist_annual_max.sel(lat = -24.8, lon = 147.2, method = 'nearest')[parameter].values,yT)"
   ]
  },
  {
   "cell_type": "code",
   "execution_count": null,
   "metadata": {},
   "outputs": [],
   "source": [
    "-31.25,131.8\n",
    "-31.5,130.6"
   ]
  },
  {
   "cell_type": "code",
   "execution_count": null,
   "metadata": {},
   "outputs": [],
   "source": [
    "(ds_hist_annual_max.sel(lat = -23.85, lon = 125.2, method = 'nearest')[parameter].values)"
   ]
  },
  {
   "cell_type": "code",
   "execution_count": null,
   "metadata": {},
   "outputs": [],
   "source": [
    "plt.plot(ds_hist_annual_max.sel(lat = -23.65, lon = 125.2, method = 'nearest')[parameter].values)\n",
    "plt.plot(ds_scenario_annual_max.sel(lat = -23.65, lon = 125.2, method = 'nearest')[parameter].values)"
   ]
  },
  {
   "cell_type": "code",
   "execution_count": null,
   "metadata": {},
   "outputs": [],
   "source": [
    "test_ds = xr.open_dataset('/g/data/wj02/COMPLIANT/HMINPUT/output/AUS-5/BoM/CSIRO-BOM-ACCESS1-0/historical/r1i1p1/r240x120-MRNBC-AWAP/latest/day/pr/pr_AUS-5_CSIRO-BOM-ACCESS1-0_historical_r1i1p1_r240x120-MRNBC-AWAP_v1_day_19760101-20051231.nc')"
   ]
  },
  {
   "cell_type": "code",
   "execution_count": null,
   "metadata": {},
   "outputs": [],
   "source": [
    "(test_ds.sel(lat = -20.05, lon = 118.8, method = 'nearest')[parameter].values)"
   ]
  },
  {
   "cell_type": "code",
   "execution_count": null,
   "metadata": {},
   "outputs": [],
   "source": [
    "test_ds = xr.open_dataset('/g/data/wj02/COMPLIANT/HMINPUT/output/AUS-5/BoM/MIROC-MIROC5/historical/r1i1p1/r240x120-MRNBC-AWAP/latest/day/pr/pr_AUS-5_MIROC-MIROC5_historical_r1i1p1_r240x120-MRNBC-AWAP_v1_day_19600101-20051231.nc')"
   ]
  },
  {
   "cell_type": "code",
   "execution_count": null,
   "metadata": {},
   "outputs": [],
   "source": [
    "plt.plot(ds_hist_annual_max.sel(lat = -31.6, lon = 130.6, method = 'nearest')[parameter].values)"
   ]
  },
  {
   "cell_type": "code",
   "execution_count": 15,
   "metadata": {},
   "outputs": [],
   "source": [
    "import matplotlib\n",
    "import matplotlib.pyplot as plt\n",
    "from matplotlib.backends.backend_pdf import PdfPages\n",
    "from matplotlib.colors import LogNorm\n",
    "from mpl_toolkits.basemap import Basemap\n",
    "from mpl_toolkits.axes_grid1.inset_locator import inset_axes #put inset plot\n",
    "%matplotlib inline"
   ]
  },
  {
   "cell_type": "code",
   "execution_count": null,
   "metadata": {},
   "outputs": [],
   "source": [
    "map = Basemap(110.,-45.,155,-10.5, \n",
    "           lat_0=24.75, lon_0=134.0, lat_1=-10, lat_2=-40,\n",
    "            rsphere=(6378137.00,6356752.3142),\n",
    "            projection='cyl')\n",
    "map.drawcoastlines()\n",
    "map.drawstates()\n",
    "map.drawlsmask(land_color='Linen', ocean_color='white')\n",
    "map.drawcountries()\n",
    "map.drawparallels(np.arange(-43,-10,10),labels=[1,0,0,0])\n",
    "map.drawmeridians(np.arange(110,155,10),labels=[0,0,0,1])\n",
    "plt.scatter(125.2,-23.85, marker = '*', color = 'red')"
   ]
  },
  {
   "cell_type": "code",
   "execution_count": null,
   "metadata": {},
   "outputs": [],
   "source": []
  },
  {
   "cell_type": "code",
   "execution_count": null,
   "metadata": {},
   "outputs": [],
   "source": [
    "grid_cells.lat[i]"
   ]
  },
  {
   "cell_type": "code",
   "execution_count": null,
   "metadata": {},
   "outputs": [],
   "source": [
    "grid_cells.lon[i]"
   ]
  },
  {
   "cell_type": "code",
   "execution_count": null,
   "metadata": {},
   "outputs": [],
   "source": [
    "yT_point"
   ]
  },
  {
   "cell_type": "code",
   "execution_count": null,
   "metadata": {},
   "outputs": [],
   "source": [
    "all_return_period"
   ]
  },
  {
   "cell_type": "code",
   "execution_count": null,
   "metadata": {},
   "outputs": [],
   "source": [
    "hist_yT_point"
   ]
  },
  {
   "cell_type": "code",
   "execution_count": null,
   "metadata": {},
   "outputs": [],
   "source": [
    "grid_cells"
   ]
  },
  {
   "cell_type": "code",
   "execution_count": null,
   "metadata": {},
   "outputs": [],
   "source": [
    "data_test = ds_hist_annual_max.sel(lat = -23.85, lon = 125.2, method = 'nearest')[parameter].values"
   ]
  },
  {
   "cell_type": "code",
   "execution_count": null,
   "metadata": {},
   "outputs": [],
   "source": [
    "data_test"
   ]
  },
  {
   "cell_type": "code",
   "execution_count": null,
   "metadata": {},
   "outputs": [],
   "source": [
    "data_test = ds_scenario_annual_max.sel(lat = -23.85, lon = 125.2, method = 'nearest')[parameter].values"
   ]
  },
  {
   "cell_type": "code",
   "execution_count": null,
   "metadata": {},
   "outputs": [],
   "source": [
    "from matplotlib import pyplot as plt\n",
    "%matplotlib inline"
   ]
  },
  {
   "cell_type": "code",
   "execution_count": null,
   "metadata": {},
   "outputs": [],
   "source": [
    "plt.plot(ds_hist_annual_max.sel(lat = -23.85, lon = 125.2, method = 'nearest')[parameter].values)\n",
    "plt.plot(ds_scenario_annual_max.sel(lat = -23.85, lon = 125.2, method = 'nearest')[parameter].values)"
   ]
  },
  {
   "cell_type": "code",
   "execution_count": null,
   "metadata": {},
   "outputs": [],
   "source": [
    "gev_return_period(data_test, 20)"
   ]
  },
  {
   "cell_type": "code",
   "execution_count": null,
   "metadata": {},
   "outputs": [],
   "source": [
    "#Function to calculate return period: LP3 distribution\n",
    "def lp3_return_period(data, T):\n",
    "    xbar=np.mean(data)\n",
    "    stdev=np.std(data)\n",
    "    xskew=skew(data)\n",
    "    zp=norm.ppf(1-1/T)\n",
    "    ff=(2/xskew)*((1+(zp*xskew)/6-xskew**2/36)**3)-2/xskew\n",
    "    qt=xbar+stdev*ff\n",
    "    return(qt)"
   ]
  },
  {
   "cell_type": "code",
   "execution_count": null,
   "metadata": {},
   "outputs": [],
   "source": [
    "lp3_return_period(data_test, 20)"
   ]
  },
  {
   "cell_type": "code",
   "execution_count": null,
   "metadata": {},
   "outputs": [],
   "source": [
    "#Function to calculate return period: EV1/Gumble distribution\n",
    "def ev1_return_period(data, T):\n",
    "    xbar=np.mean(data)\n",
    "    stdev=np.std(data)\n",
    "    ff=np.sqrt(6)/3.1416*(-0.5772-np.log(-np.log(1-1/T))) \n",
    "    qt=xbar+stdev*ff\n",
    "    return(qt)"
   ]
  },
  {
   "cell_type": "code",
   "execution_count": null,
   "metadata": {},
   "outputs": [],
   "source": [
    "ev1_return_period(data_test, 20)"
   ]
  },
  {
   "cell_type": "code",
   "execution_count": null,
   "metadata": {},
   "outputs": [],
   "source": [
    "caluster_flood_indicator=[]\n",
    "for val in enumerate(values):   \n",
    "#for val in enumerate(values[0]):  \n",
    "    #Change in mean\n",
    "    change_daily_mean = percentage_change(parameter, val[1][0], val[1][1], val[1][2], 'Mean', hist_end, hist_st, yr_end, yr_st)\n",
    "\n",
    "    #Change in max\n",
    "    change_daily_max = percentage_change(parameter, val[1][0], val[1][1], val[1][2], 'Max', hist_end, hist_st, yr_end, yr_st)  \n",
    "    \n",
    "    #Change in return period\n",
    "    # Annual Max - for historical period\n",
    "    filename_hist_annual_max = get_file(parameter,val[1][0],'historical',val[1][2],'Annual_Max',hist_end,hist_st)\n",
    "    ds_hist_annual_max = xr.open_dataset(os.path.join(dir_in,filename_hist_annual_max))\n",
    "    # Annual Max - for scenario period\n",
    "    filename_scenario_annual_max = get_file(parameter,val[1][0],val[1][1],val[1][2],'Annual_Max',yr_end,yr_st)\n",
    "    ds_scenario_annual_max = xr.open_dataset(os.path.join(dir_in,filename_scenario_annual_max))  \n",
    "    # calculate retrun period for the historical period\n",
    "    all_yT = []\n",
    "    for i in range (0, len(grid_cells)): \n",
    "        hist_yT_point = gev_return_period(ts_data(ds_hist_annual_max, grid_cells.lat[i], grid_cells.lon[i], parameter), yT)\n",
    "        scenario_yT_point = gev_return_period(ts_data(ds_scenario_annual_max, grid_cells.lat[i], grid_cells.lon[i], parameter), yT)       \n",
    "        yT_point = {'hist_yT':hist_yT_point,'future_yT':scenario_yT_point}\n",
    "        all_yT.append(yT_point)\n",
    "    all_return_period = pd.DataFrame(all_yT)   \n",
    "    change_return_period = ((all_return_period['future_yT'].mean()-all_return_period['hist_yT'].mean())*100)/all_return_period['hist_yT'].mean()   \n",
    "    dd = {'GCM':val[1][0],'Bias Correction':val[1][2],'Emission':val[1][1],'Change in Daily Mean':change_daily_mean,'Change in daily Max':change_daily_max, 'Change in Return Period':change_return_period}\n",
    "    cluster_flood_indicator.append(dd)\n",
    "    break # just want to check one loop/one ensemble"
   ]
  },
  {
   "cell_type": "code",
   "execution_count": null,
   "metadata": {},
   "outputs": [],
   "source": [
    "cluster_flood_indicator"
   ]
  },
  {
   "cell_type": "code",
   "execution_count": null,
   "metadata": {},
   "outputs": [],
   "source": [
    "values[10][0]"
   ]
  },
  {
   "cell_type": "markdown",
   "metadata": {},
   "source": [
    "#### Slow code"
   ]
  },
  {
   "cell_type": "code",
   "execution_count": null,
   "metadata": {},
   "outputs": [],
   "source": [
    "cluster_flood_indicator=[]\n",
    "for val in enumerate(values):   \n",
    "#for val in enumerate(values[0]):  \n",
    "    #Change in mean\n",
    "    change_daily_mean = percentage_change(parameter, val[1][0], val[1][1], val[1][2], 'Mean', hist_end, hist_st, yr_end, yr_st)\n",
    "\n",
    "    #Change in max\n",
    "    change_daily_max = percentage_change(parameter, val[1][0], val[1][1], val[1][2], 'Max', hist_end, hist_st, yr_end, yr_st)  \n",
    "    \n",
    "    #Change in return period\n",
    "    # Annual Max - for historical period\n",
    "    filename_hist_annual_max = get_file(parameter,val[1][0],'historical',val[1][2],'Annual_Max',hist_end,hist_st)\n",
    "    ds_hist_annual_max = xr.open_dataset(os.path.join(dir_in,filename_hist_annual_max))\n",
    "    # calculate retrun period for the historical period\n",
    "    hist_yT = []\n",
    "    for i in range (0, len(grid_cells)): \n",
    "        hist_yT_point = gev_return_period(ts_data(ds_hist_annual_max, grid_cells.lat[i], grid_cells.lon[i], parameter), yT)\n",
    "        hist_yT.append(hist_yT_point)\n",
    "    hist_yT_mean = pd.DataFrame(hist_yT).mean()[0]\n",
    "    # Annual Max - for scenario period\n",
    "    filename_scenario_annual_max = get_file(parameter,val[1][0],val[1][1],val[1][2],'Annual_Max',yr_end,yr_st)\n",
    "    ds_scenario_annual_max = xr.open_dataset(os.path.join(dir_in,filename_scenario_annual_max))\n",
    "    # calculate retrun period for the scenario period\n",
    "    scenario_yT = []\n",
    "    for j in range (0, len(grid_cells)): \n",
    "        scenario_yT_point = gev_return_period(ts_data(ds_scenario_annual_max, grid_cells.lat[j], grid_cells.lon[j], parameter), yT)\n",
    "        scenario_yT.append(scenario_yT_point)\n",
    "    scenario_yT_mean = pd.DataFrame(scenario_yT).mean()[0]\n",
    "    change_return_period = ((scenario_yT_mean-hist_yT_mean)*100)/hist_yT_mean\n",
    "    \n",
    "    dd = {'GCM':val[1][0],'Bias Correction':val[1][2],'Emission':val[1][1],'Change in Daily Mean':change_daily_mean,'Change in daily Max':change_daily_max, 'Change in Return Period':change_return_period}\n",
    "    cluster_flood_indicator.append(dd)\n",
    "    break # just want to check one loop/one ensemble"
   ]
  },
  {
   "cell_type": "markdown",
   "metadata": {},
   "source": [
    "#### Mean of change"
   ]
  },
  {
   "cell_type": "code",
   "execution_count": null,
   "metadata": {},
   "outputs": [],
   "source": [
    "cluster_flood_indicator=[]\n",
    "for val in enumerate(values):   \n",
    "#for val in enumerate(values[0]):  \n",
    "    #Change in mean\n",
    "    change_daily_mean = percentage_change(parameter, val[1][0], val[1][1], val[1][2], 'Mean', hist_end, hist_st, yr_end, yr_st)\n",
    "\n",
    "    #Change in max\n",
    "    change_daily_max = percentage_change(parameter, val[1][0], val[1][1], val[1][2], 'Max', hist_end, hist_st, yr_end, yr_st)  \n",
    "    \n",
    "    #Change in return period\n",
    "    # Annual Max - for historical period\n",
    "    filename_hist_annual_max = get_file(parameter,val[1][0],'historical',val[1][2],'Annual_Max',hist_end,hist_st)\n",
    "    ds_hist_annual_max = xr.open_dataset(os.path.join(dir_in,filename_hist_annual_max))\n",
    "    # Annual Max - for scenario period\n",
    "    filename_scenario_annual_max = get_file(parameter,val[1][0],val[1][1],val[1][2],'Annual_Max',yr_end,yr_st)\n",
    "    ds_scenario_annual_max = xr.open_dataset(os.path.join(dir_in,filename_scenario_annual_max))  \n",
    "    # calculate retrun period for the historical period\n",
    "    change_yT = []\n",
    "    for i in range (0, len(grid_cells)): \n",
    "        hist_yT_point = gev_return_period(ts_data(ds_hist_annual_max, grid_cells.lat[i], grid_cells.lon[i], parameter), yT)\n",
    "        scenario_yT_point = gev_return_period(ts_data(ds_scenario_annual_max, grid_cells.lat[i], grid_cells.lon[i], parameter), yT)\n",
    "        diff_yT = ((scenario_yT_point-hist_yT_point)*100)/hist_yT_point\n",
    "        change_yT.append(diff_yT)\n",
    "    change_return_period = pd.DataFrame(change_yT).mean()[0]   \n",
    "    dd = {'GCM':val[1][0],'Bias Correction':val[1][2],'Emission':val[1][1],'Change in Daily Mean':change_daily_mean,'Change in daily Max':change_daily_max, 'Change in Return Period':change_return_period}\n",
    "    cluster_flood_indicator.append(dd)\n",
    "    break # just want to check one loop/one ensemble"
   ]
  },
  {
   "cell_type": "code",
   "execution_count": null,
   "metadata": {},
   "outputs": [],
   "source": [
    "cluster_flood_indicator"
   ]
  },
  {
   "cell_type": "code",
   "execution_count": null,
   "metadata": {},
   "outputs": [],
   "source": []
  }
 ],
 "metadata": {
  "kernelspec": {
   "display_name": "Python 3",
   "language": "python",
   "name": "python3"
  },
  "language_info": {
   "codemirror_mode": {
    "name": "ipython",
    "version": 3
   },
   "file_extension": ".py",
   "mimetype": "text/x-python",
   "name": "python",
   "nbconvert_exporter": "python",
   "pygments_lexer": "ipython3",
   "version": "3.6.9"
  }
 },
 "nbformat": 4,
 "nbformat_minor": 2
}
