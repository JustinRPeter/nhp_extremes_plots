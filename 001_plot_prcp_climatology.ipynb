{
 "cells": [
  {
   "cell_type": "code",
   "execution_count": 27,
   "metadata": {},
   "outputs": [],
   "source": [
    "from awrams.utils.processing.extract import extract\n",
    "from awrams.utils.gis import ShapefileDB,extent_from_record\n",
    "from awrams.utils.extents import get_default_extent\n",
    "import pandas as pd\n",
    "import pickle\n",
    "import os\n",
    "import matplotlib.pyplot as plt"
   ]
  },
  {
   "cell_type": "code",
   "execution_count": 2,
   "metadata": {},
   "outputs": [],
   "source": [
    "### Set the customer folder and shapefile name\n",
    "shp_name = 'NRM_clusters'"
   ]
  },
  {
   "cell_type": "code",
   "execution_count": 3,
   "metadata": {},
   "outputs": [],
   "source": [
    "## Data Request dir folder path\n",
    "DataRequest_dir = '/g/data/er4/rs2140/data/'"
   ]
  },
  {
   "cell_type": "code",
   "execution_count": 4,
   "metadata": {},
   "outputs": [
    {
     "data": {
      "text/html": [
       "<div>\n",
       "<table border=\"1\" class=\"dataframe\">\n",
       "  <thead>\n",
       "    <tr style=\"text-align: right;\">\n",
       "      <th></th>\n",
       "      <th>OBJECTID</th>\n",
       "      <th>Shape_Area</th>\n",
       "      <th>Shape_Leng</th>\n",
       "      <th>code</th>\n",
       "      <th>label</th>\n",
       "    </tr>\n",
       "  </thead>\n",
       "  <tbody>\n",
       "    <tr>\n",
       "      <th>0</th>\n",
       "      <td>1</td>\n",
       "      <td>28.309947</td>\n",
       "      <td>43.872364</td>\n",
       "      <td>CS</td>\n",
       "      <td>Central Slopes</td>\n",
       "    </tr>\n",
       "    <tr>\n",
       "      <th>1</th>\n",
       "      <td>2</td>\n",
       "      <td>34.176299</td>\n",
       "      <td>56.117544</td>\n",
       "      <td>EC</td>\n",
       "      <td>East Coast</td>\n",
       "    </tr>\n",
       "    <tr>\n",
       "      <th>2</th>\n",
       "      <td>4</td>\n",
       "      <td>45.299310</td>\n",
       "      <td>45.869349</td>\n",
       "      <td>MB</td>\n",
       "      <td>Murray Basin</td>\n",
       "    </tr>\n",
       "    <tr>\n",
       "      <th>3</th>\n",
       "      <td>5</td>\n",
       "      <td>124.655757</td>\n",
       "      <td>119.284033</td>\n",
       "      <td>MN</td>\n",
       "      <td>Monsoonal North</td>\n",
       "    </tr>\n",
       "    <tr>\n",
       "      <th>4</th>\n",
       "      <td>6</td>\n",
       "      <td>407.116072</td>\n",
       "      <td>137.457553</td>\n",
       "      <td>R</td>\n",
       "      <td>Rangelands</td>\n",
       "    </tr>\n",
       "    <tr>\n",
       "      <th>5</th>\n",
       "      <td>7</td>\n",
       "      <td>23.431035</td>\n",
       "      <td>59.887218</td>\n",
       "      <td>SS</td>\n",
       "      <td>Southern Slopes</td>\n",
       "    </tr>\n",
       "    <tr>\n",
       "      <th>6</th>\n",
       "      <td>8</td>\n",
       "      <td>50.647491</td>\n",
       "      <td>87.137068</td>\n",
       "      <td>SSWF</td>\n",
       "      <td>Southern and South-Western Flatlands</td>\n",
       "    </tr>\n",
       "    <tr>\n",
       "      <th>7</th>\n",
       "      <td>9</td>\n",
       "      <td>19.503388</td>\n",
       "      <td>45.896712</td>\n",
       "      <td>WT</td>\n",
       "      <td>Wet Tropics</td>\n",
       "    </tr>\n",
       "  </tbody>\n",
       "</table>\n",
       "</div>"
      ],
      "text/plain": [
       "   OBJECTID  Shape_Area  Shape_Leng  code  \\\n",
       "0         1   28.309947   43.872364    CS   \n",
       "1         2   34.176299   56.117544    EC   \n",
       "2         4   45.299310   45.869349    MB   \n",
       "3         5  124.655757  119.284033    MN   \n",
       "4         6  407.116072  137.457553     R   \n",
       "5         7   23.431035   59.887218    SS   \n",
       "6         8   50.647491   87.137068  SSWF   \n",
       "7         9   19.503388   45.896712    WT   \n",
       "\n",
       "                                  label  \n",
       "0                        Central Slopes  \n",
       "1                            East Coast  \n",
       "2                          Murray Basin  \n",
       "3                       Monsoonal North  \n",
       "4                            Rangelands  \n",
       "5                       Southern Slopes  \n",
       "6  Southern and South-Western Flatlands  \n",
       "7                           Wet Tropics  "
      ]
     },
     "execution_count": 4,
     "metadata": {},
     "output_type": "execute_result"
    }
   ],
   "source": [
    "## Read shape file\n",
    "shp = DataRequest_dir + 'shapefiles/NRM_clusters/' + shp_name + '.shp'\n",
    "sdb = ShapefileDB(shp)\n",
    "sdf = sdb.get_records_df()\n",
    "sdf"
   ]
  },
  {
   "cell_type": "code",
   "execution_count": 5,
   "metadata": {},
   "outputs": [],
   "source": [
    "emap = pickle.load(open(DataRequest_dir + 'shapefiles/NRM_clusters/' + shp_name + '.pkl', 'rb'))"
   ]
  },
  {
   "cell_type": "code",
   "execution_count": 6,
   "metadata": {},
   "outputs": [
    {
     "data": {
      "text/plain": [
       "{'Central Slopes': origin: -24.9,146.3, shape: (182, 125), cell_size: 0.05,\n",
       " 'East Coast': origin: -21.25,146.55, shape: (279, 144), cell_size: 0.05,\n",
       " 'Murray Basin': origin: -32.2,138.55, shape: (119, 229), cell_size: 0.05,\n",
       " 'Monsoonal North': origin: -10.85,119.05, shape: (273, 593), cell_size: 0.05,\n",
       " 'Rangelands': origin: -16.95,112.85, shape: (329, 723), cell_size: 0.05,\n",
       " 'Southern Slopes': origin: -34.2,140.95, shape: (193, 203), cell_size: 0.05,\n",
       " 'Southern and South-Western Flatlands': origin: -26.8,113.5, shape: (194, 518), cell_size: 0.05,\n",
       " 'Wet Tropics': origin: -10.0,141.35, shape: (245, 177), cell_size: 0.05}"
      ]
     },
     "execution_count": 6,
     "metadata": {},
     "output_type": "execute_result"
    }
   ],
   "source": [
    "emap"
   ]
  },
  {
   "cell_type": "code",
   "execution_count": 22,
   "metadata": {},
   "outputs": [],
   "source": [
    "which_cluster = 'Wet Tropics'"
   ]
  },
  {
   "cell_type": "code",
   "execution_count": 23,
   "metadata": {},
   "outputs": [],
   "source": [
    "cluster = {}\n",
    "for key in emap:\n",
    "    if which_cluster in key:\n",
    "        cluster[key] = emap[key]"
   ]
  },
  {
   "cell_type": "code",
   "execution_count": 8,
   "metadata": {},
   "outputs": [
    {
     "data": {
      "text/plain": [
       "DatetimeIndex(['1976-01-01', '1976-01-02', '1976-01-03', '1976-01-04',\n",
       "               '1976-01-05', '1976-01-06', '1976-01-07', '1976-01-08',\n",
       "               '1976-01-09', '1976-01-10',\n",
       "               ...\n",
       "               '2005-12-22', '2005-12-23', '2005-12-24', '2005-12-25',\n",
       "               '2005-12-26', '2005-12-27', '2005-12-28', '2005-12-29',\n",
       "               '2005-12-30', '2005-12-31'],\n",
       "              dtype='datetime64[ns]', length=10958, freq='D')"
      ]
     },
     "execution_count": 8,
     "metadata": {},
     "output_type": "execute_result"
    }
   ],
   "source": [
    "period = pd.date_range('1 jan 1976', '31 dec 2005', freq='D')\n",
    "period"
   ]
  },
  {
   "cell_type": "code",
   "execution_count": 9,
   "metadata": {},
   "outputs": [
    {
     "name": "stdout",
     "output_type": "stream",
     "text": [
      "working on rain_day\n",
      "input file path: /g/data/er4/data/CLIMATE/rain_day/rain_day*.nc\n"
     ]
    }
   ],
   "source": [
    "var_names = ['rain_day']  # 'pr', 'tasmax', 'tasmin', 'sm_pct', 'ss_pct', 's0_pct', 'sd_pct', 'qtot', 'rain_day']\n",
    "\n",
    "input_path_rain = '/g/data/er4/data/CLIMATE/rain_day/'\n",
    "\n",
    "ddf = {}\n",
    "\n",
    "for v in var_names:\n",
    "    print('working on', v)\n",
    "    \n",
    "    if v == 'rain_day':\n",
    "        input_path = input_path_rain \n",
    "    elif v in ('temp_max_day', 'tasmax', 'tasmin', 'rsds', 'sfcWind'):     #tasmax\n",
    "        input_path = input_path_rain\n",
    "    elif v in ('qtot', 'e0', 'etot', 's0', 'ss', 'sd', 'dd'):\n",
    "        input_path = input_path_awral\n",
    "    elif v in ('sm', 's0_pct', 'ss_pct', 'sm_pct', 'sd_pct'):\n",
    "        input_path = input_path_sm\n",
    "    elif v in ('ma_wet', 'pen_pet', 'fao_pet', 'asce_pet', 'msl_wet'):\n",
    "        input_path = input_path_et\n",
    "\n",
    "    if v == 'sm':\n",
    "        pattern = input_path + 'sm_[0-9][0-9][0-9][0-9].nc'\n",
    "    else:\n",
    "        pattern = input_path + '%s*.nc' % v\n",
    "    print('input file path:', pattern)\n",
    "    \n",
    "    ddf[v] = extract(input_path, pattern, v, cluster, period)"
   ]
  },
  {
   "cell_type": "code",
   "execution_count": 10,
   "metadata": {},
   "outputs": [],
   "source": [
    "# Aggregating as monthly data\n",
    "df = ddf[v].resample('M').sum()\n",
    "# Monthly climatology\n",
    "df_m = df.groupby(df.index.month).mean()"
   ]
  },
  {
   "cell_type": "code",
   "execution_count": 21,
   "metadata": {},
   "outputs": [
    {
     "data": {
      "text/plain": [
       "{'Wet Tropics': origin: -10.0,141.35, shape: (245, 177), cell_size: 0.05}"
      ]
     },
     "execution_count": 21,
     "metadata": {},
     "output_type": "execute_result"
    }
   ],
   "source": [
    "cluster"
   ]
  },
  {
   "cell_type": "code",
   "execution_count": 37,
   "metadata": {},
   "outputs": [
    {
     "ename": "TypeError",
     "evalue": "text() missing 1 required positional argument: 's'",
     "output_type": "error",
     "traceback": [
      "\u001b[0;31m---------------------------------------------------------------------------\u001b[0m",
      "\u001b[0;31mTypeError\u001b[0m                                 Traceback (most recent call last)",
      "\u001b[0;32m<ipython-input-37-446117de69f8>\u001b[0m in \u001b[0;36m<module>\u001b[0;34m\u001b[0m\n\u001b[1;32m      6\u001b[0m \u001b[0max\u001b[0m\u001b[0;34m.\u001b[0m\u001b[0mset_ylabel\u001b[0m\u001b[0;34m(\u001b[0m\u001b[0;34m'Total Rainfall (mm)'\u001b[0m\u001b[0;34m)\u001b[0m\u001b[0;34m\u001b[0m\u001b[0;34m\u001b[0m\u001b[0m\n\u001b[1;32m      7\u001b[0m \u001b[0mxx\u001b[0m \u001b[0;34m=\u001b[0m \u001b[0max\u001b[0m\u001b[0;34m.\u001b[0m\u001b[0mbar\u001b[0m\u001b[0;34m(\u001b[0m\u001b[0mmonths\u001b[0m\u001b[0;34m,\u001b[0m \u001b[0mdf_m\u001b[0m\u001b[0;34m[\u001b[0m\u001b[0;34m'Wet Tropics'\u001b[0m\u001b[0;34m]\u001b[0m\u001b[0;34m,\u001b[0m \u001b[0mcolor\u001b[0m \u001b[0;34m=\u001b[0m \u001b[0;34m'skyblue'\u001b[0m\u001b[0;34m)\u001b[0m\u001b[0;34m\u001b[0m\u001b[0;34m\u001b[0m\u001b[0m\n\u001b[0;32m----> 8\u001b[0;31m \u001b[0max\u001b[0m\u001b[0;34m.\u001b[0m\u001b[0mtext\u001b[0m\u001b[0;34m(\u001b[0m\u001b[0mx\u001b[0m \u001b[0;34m=\u001b[0m \u001b[0mmonths\u001b[0m\u001b[0;34m,\u001b[0m \u001b[0my\u001b[0m \u001b[0;34m=\u001b[0m \u001b[0mdf_m\u001b[0m\u001b[0;34m[\u001b[0m\u001b[0;34m'Wet Tropics'\u001b[0m\u001b[0;34m]\u001b[0m\u001b[0;34m,\u001b[0m\u001b[0mlabel\u001b[0m \u001b[0;34m=\u001b[0m \u001b[0mdf_m\u001b[0m\u001b[0;34m[\u001b[0m\u001b[0;34m'Wet Tropics'\u001b[0m\u001b[0;34m]\u001b[0m\u001b[0;34m,\u001b[0m \u001b[0mva\u001b[0m\u001b[0;34m=\u001b[0m\u001b[0;34m'center'\u001b[0m\u001b[0;34m,\u001b[0m \u001b[0mha\u001b[0m\u001b[0;34m=\u001b[0m\u001b[0;34m'right'\u001b[0m\u001b[0;34m,\u001b[0m\u001b[0mcex\u001b[0m \u001b[0;34m=\u001b[0m \u001b[0;36m0.8\u001b[0m\u001b[0;34m,\u001b[0m \u001b[0mcol\u001b[0m \u001b[0;34m=\u001b[0m \u001b[0;34m'k'\u001b[0m\u001b[0;34m)\u001b[0m\u001b[0;34m\u001b[0m\u001b[0;34m\u001b[0m\u001b[0m\n\u001b[0m\u001b[1;32m      9\u001b[0m \u001b[0moutput_file\u001b[0m \u001b[0;34m=\u001b[0m \u001b[0;34m'Rainfall_climatology_%s.jpeg'\u001b[0m\u001b[0;34m%\u001b[0m\u001b[0;34m(\u001b[0m\u001b[0mwhich_cluster\u001b[0m\u001b[0;34m)\u001b[0m\u001b[0;34m\u001b[0m\u001b[0;34m\u001b[0m\u001b[0m\n\u001b[1;32m     10\u001b[0m \u001b[0mplt\u001b[0m\u001b[0;34m.\u001b[0m\u001b[0msavefig\u001b[0m\u001b[0;34m(\u001b[0m\u001b[0mos\u001b[0m\u001b[0;34m.\u001b[0m\u001b[0mpath\u001b[0m\u001b[0;34m.\u001b[0m\u001b[0mjoin\u001b[0m\u001b[0;34m(\u001b[0m\u001b[0;34m'/g/data/er4/zk6340/Hydro_projection'\u001b[0m\u001b[0;34m,\u001b[0m\u001b[0moutput_file\u001b[0m\u001b[0;34m)\u001b[0m\u001b[0;34m)\u001b[0m\u001b[0;34m\u001b[0m\u001b[0;34m\u001b[0m\u001b[0m\n",
      "\u001b[0;31mTypeError\u001b[0m: text() missing 1 required positional argument: 's'"
     ]
    },
    {
     "data": {
      "image/png": "[encoded data removed]",
      "text/plain": [
       "<Figure size 432x288 with 1 Axes>"
      ]
     },
     "metadata": {
      "needs_background": "light"
     },
     "output_type": "display_data"
    }
   ],
   "source": [
    "fig = plt.figure()\n",
    "ax = fig.add_axes([0,0,1,1])\n",
    "title = \"NRM Region: %s\"%(which_cluster)\n",
    "ax.set_title(title) \n",
    "months = ['Jan', 'Feb', 'Mar', 'Apr', 'May', 'Jun', 'Jul', 'Aug', 'Sep', 'Oct', 'Nov', 'Dec']\n",
    "ax.set_ylabel('Total Rainfall (mm)')\n",
    "xx = ax.bar(months, df_m['Wet Tropics'], color = 'skyblue')\n",
    "ax.text(x = months, y = df_m['Wet Tropics'],label = df_m['Wet Tropics'], va='center', ha='right',cex = 0.8, col = 'k')\n",
    "output_file = 'Rainfall_climatology_%s.jpeg'%(which_cluster)\n",
    "plt.savefig(os.path.join('/g/data/er4/zk6340/Hydro_projection',output_file))\n",
    "plt.show()"
   ]
  },
  {
   "cell_type": "code",
   "execution_count": 34,
   "metadata": {},
   "outputs": [
    {
     "data": {
      "text/plain": [
       "Int64Index([1, 2, 3, 4, 5, 6, 7, 8, 9, 10, 11, 12], dtype='int64')"
      ]
     },
     "execution_count": 34,
     "metadata": {},
     "output_type": "execute_result"
    }
   ],
   "source": [
    "df_m.index"
   ]
  },
  {
   "cell_type": "code",
   "execution_count": 12,
   "metadata": {},
   "outputs": [],
   "source": [
    "# ## Customer folder path\n",
    "# ## customer_dir = DataRequest_dir + 'AWAP/MDB/'\n",
    "# customer_dir = DataRequest_dir + 'AWRA-input/ISIMIP/historical/ACCESS1/VIC/'"
   ]
  },
  {
   "cell_type": "code",
   "execution_count": 13,
   "metadata": {},
   "outputs": [],
   "source": [
    "# # save daily data in mm\n",
    "# for v in ddf:\n",
    "#     print('writing data for', v)\n",
    "#     ddf[v].to_csv(customer_dir +  v + '_ACCESS1daily2.csv')"
   ]
  },
  {
   "cell_type": "code",
   "execution_count": 14,
   "metadata": {},
   "outputs": [],
   "source": [
    "# # save monthly data in mm\n",
    "# for v in ddf:\n",
    "#     print('working on', v)\n",
    "#     ddf[v].resample('MS').sum().to_csv(customer_dir + v + '_ACCESS1monthly2.csv')\n",
    "# # for v in ddf: #for MDB farm dam data\n",
    "# #     print('working on', v)\n",
    "# #     ddf[v].resample('MS', how='sum').transpose().sort().transpose().to_csv(customer_dir + '/' + v + '_monthly_mm.csv')"
   ]
  },
  {
   "cell_type": "code",
   "execution_count": 15,
   "metadata": {},
   "outputs": [],
   "source": [
    "# # ## save annual data in mm\n",
    "# for v in ddf:\n",
    "#     ddf[v].resample(rule='A-DEC').sum().to_csv(customer_dir + v + '_ACCESS1annual2.csv')`"
   ]
  },
  {
   "cell_type": "code",
   "execution_count": null,
   "metadata": {},
   "outputs": [],
   "source": []
  },
  {
   "cell_type": "code",
   "execution_count": null,
   "metadata": {},
   "outputs": [],
   "source": []
  },
  {
   "cell_type": "code",
   "execution_count": null,
   "metadata": {},
   "outputs": [],
   "source": []
  },
  {
   "cell_type": "code",
   "execution_count": null,
   "metadata": {},
   "outputs": [],
   "source": []
  },
  {
   "cell_type": "code",
   "execution_count": null,
   "metadata": {},
   "outputs": [],
   "source": []
  },
  {
   "cell_type": "code",
   "execution_count": null,
   "metadata": {},
   "outputs": [],
   "source": []
  }
 ],
 "metadata": {
  "kernelspec": {
   "display_name": "Python 3",
   "language": "python",
   "name": "python3"
  },
  "language_info": {
   "codemirror_mode": {
    "name": "ipython",
    "version": 3
   },
   "file_extension": ".py",
   "mimetype": "text/x-python",
   "name": "python",
   "nbconvert_exporter": "python",
   "pygments_lexer": "ipython3",
   "version": "3.6.9"
  }
 },
 "nbformat": 4,
 "nbformat_minor": 2
}
